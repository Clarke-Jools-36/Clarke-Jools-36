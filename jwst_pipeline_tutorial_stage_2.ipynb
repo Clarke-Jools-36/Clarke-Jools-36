{
  "cells": [
    {
      "cell_type": "markdown",
      "metadata": {
        "id": "view-in-github",
        "colab_type": "text"
      },
      "source": [
        "<a href=\"https://colab.research.google.com/github/Clarke-Jools-36/Clarke-Jools-36/blob/main/jwst_pipeline_tutorial_stage_2.ipynb\" target=\"_parent\"><img src=\"https://colab.research.google.com/assets/colab-badge.svg\" alt=\"Open In Colab\"/></a>"
      ]
    },
    {
      "cell_type": "markdown",
      "source": [
        "We will now run stage 2 of the pipeline.  This takes the rateints FITS files from the end of Stage 1 and ends with the production of 1D stellar spectra (one per integration) which are stored as FITS files.  \n"
      ],
      "metadata": {
        "id": "t9VMUr5YNbol"
      }
    },
    {
      "cell_type": "markdown",
      "source": [
        "**First mount your drive** by clicking on the file icon on the left, and choose the third icon at the top to mount.  This will allow you to access the JWST_practical folder and the jwst_tutorial_output files from Stage 1.  "
      ],
      "metadata": {
        "id": "7AuPpMtPnRln"
      }
    },
    {
      "cell_type": "code",
      "source": [],
      "metadata": {
        "id": "5LVoV9OhE0UO"
      },
      "execution_count": null,
      "outputs": []
    },
    {
      "cell_type": "code",
      "source": [
        "from google.colab import drive\n",
        "drive.mount('/content/drive')"
      ],
      "metadata": {
        "id": "4mBPEmfc8jjf",
        "outputId": "471405e9-43ef-4792-af63-0e9a34a034ee",
        "colab": {
          "base_uri": "https://localhost:8080/"
        }
      },
      "execution_count": 1,
      "outputs": [
        {
          "output_type": "stream",
          "name": "stdout",
          "text": [
            "Mounted at /content/drive\n"
          ]
        }
      ]
    },
    {
      "cell_type": "markdown",
      "source": [
        "Next we must again install the official JWST pipeline software package.\n",
        "**This cell will run and end with an intentional error (run time will start again). Just ignore this and go to the next cell.**"
      ],
      "metadata": {
        "id": "glglmlFvoF_H"
      }
    },
    {
      "cell_type": "code",
      "source": [
        "!pip install jwst\n",
        "import os\n",
        "os.kill(os.getpid(), 9)"
      ],
      "metadata": {
        "id": "0Y1_jG9SoNDJ",
        "outputId": "2ea8d5d2-2679-464f-aaf4-b37597cbe192",
        "colab": {
          "base_uri": "https://localhost:8080/"
        }
      },
      "execution_count": null,
      "outputs": [
        {
          "output_type": "stream",
          "name": "stdout",
          "text": [
            "Looking in indexes: https://pypi.org/simple, https://us-python.pkg.dev/colab-wheels/public/simple/\n",
            "Collecting jwst\n",
            "  Downloading jwst-1.9.6-cp39-cp39-manylinux_2_5_x86_64.manylinux1_x86_64.manylinux_2_12_x86_64.manylinux2010_x86_64.whl (15.0 MB)\n",
            "\u001b[2K     \u001b[90m━━━━━━━━━━━━━━━━━━━━━━━━━━━━━━━━━━━━━━━━\u001b[0m \u001b[32m15.0/15.0 MB\u001b[0m \u001b[31m50.0 MB/s\u001b[0m eta \u001b[36m0:00:00\u001b[0m\n",
            "\u001b[?25hCollecting gwcs>=0.18.3\n",
            "  Downloading gwcs-0.18.3-py3-none-any.whl (108 kB)\n",
            "\u001b[2K     \u001b[90m━━━━━━━━━━━━━━━━━━━━━━━━━━━━━━━━━━━━━━\u001b[0m \u001b[32m108.1/108.1 KB\u001b[0m \u001b[31m11.2 MB/s\u001b[0m eta \u001b[36m0:00:00\u001b[0m\n",
            "\u001b[?25hCollecting poppy>=1.0.2\n",
            "  Downloading poppy-1.0.3-py3-none-any.whl (2.8 MB)\n",
            "\u001b[2K     \u001b[90m━━━━━━━━━━━━━━━━━━━━━━━━━━━━━━━━━━━━━━━━\u001b[0m \u001b[32m2.8/2.8 MB\u001b[0m \u001b[31m74.3 MB/s\u001b[0m eta \u001b[36m0:00:00\u001b[0m\n",
            "\u001b[?25hCollecting drizzle>=1.13.6\n",
            "  Downloading drizzle-1.13.7-cp39-cp39-manylinux_2_5_x86_64.manylinux1_x86_64.manylinux_2_12_x86_64.manylinux2010_x86_64.whl (298 kB)\n",
            "\u001b[2K     \u001b[90m━━━━━━━━━━━━━━━━━━━━━━━━━━━━━━━━━━━━━━\u001b[0m \u001b[32m299.0/299.0 KB\u001b[0m \u001b[31m31.8 MB/s\u001b[0m eta \u001b[36m0:00:00\u001b[0m\n",
            "\u001b[?25hRequirement already satisfied: requests>=2.22 in /usr/local/lib/python3.9/dist-packages (from jwst) (2.25.1)\n",
            "Collecting photutils>=1.4.0\n",
            "  Downloading photutils-1.6.0-cp39-cp39-manylinux_2_5_x86_64.manylinux1_x86_64.manylinux_2_17_x86_64.manylinux2014_x86_64.whl (866 kB)\n",
            "\u001b[2K     \u001b[90m━━━━━━━━━━━━━━━━━━━━━━━━━━━━━━━━━━━━━━\u001b[0m \u001b[32m866.7/866.7 KB\u001b[0m \u001b[31m54.6 MB/s\u001b[0m eta \u001b[36m0:00:00\u001b[0m\n",
            "\u001b[?25hCollecting asdf>=2.14.1\n",
            "  Downloading asdf-2.14.3-py3-none-any.whl (414 kB)\n",
            "\u001b[2K     \u001b[90m━━━━━━━━━━━━━━━━━━━━━━━━━━━━━━━━━━━━━━\u001b[0m \u001b[32m414.4/414.4 KB\u001b[0m \u001b[31m35.1 MB/s\u001b[0m eta \u001b[36m0:00:00\u001b[0m\n",
            "\u001b[?25hCollecting tweakwcs>=0.8.1\n",
            "  Downloading tweakwcs-0.8.1-py3-none-any.whl (82 kB)\n",
            "\u001b[2K     \u001b[90m━━━━━━━━━━━━━━━━━━━━━━━━━━━━━━━━━━━━━━━━\u001b[0m \u001b[32m82.2/82.2 KB\u001b[0m \u001b[31m10.2 MB/s\u001b[0m eta \u001b[36m0:00:00\u001b[0m\n",
            "\u001b[?25hCollecting asdf-astropy>=0.3.0\n",
            "  Downloading asdf_astropy-0.3.0-py3-none-any.whl (69 kB)\n",
            "\u001b[2K     \u001b[90m━━━━━━━━━━━━━━━━━━━━━━━━━━━━━━━━━━━━━━━━\u001b[0m \u001b[32m69.6/69.6 KB\u001b[0m \u001b[31m9.0 MB/s\u001b[0m eta \u001b[36m0:00:00\u001b[0m\n",
            "\u001b[?25hCollecting asdf-transform-schemas>=0.3.0\n",
            "  Downloading asdf_transform_schemas-0.3.0-py3-none-any.whl (195 kB)\n",
            "\u001b[2K     \u001b[90m━━━━━━━━━━━━━━━━━━━━━━━━━━━━━━━━━━━━━━\u001b[0m \u001b[32m195.6/195.6 KB\u001b[0m \u001b[31m26.4 MB/s\u001b[0m eta \u001b[36m0:00:00\u001b[0m\n",
            "\u001b[?25hCollecting crds>=11.16.19\n",
            "  Downloading crds-11.16.21-py3-none-any.whl (1.2 MB)\n",
            "\u001b[2K     \u001b[90m━━━━━━━━━━━━━━━━━━━━━━━━━━━━━━━━━━━━━━━━\u001b[0m \u001b[32m1.2/1.2 MB\u001b[0m \u001b[31m65.5 MB/s\u001b[0m eta \u001b[36m0:00:00\u001b[0m\n",
            "\u001b[?25hCollecting psutil>=5.7.2\n",
            "  Downloading psutil-5.9.4-cp36-abi3-manylinux_2_12_x86_64.manylinux2010_x86_64.manylinux_2_17_x86_64.manylinux2014_x86_64.whl (280 kB)\n",
            "\u001b[2K     \u001b[90m━━━━━━━━━━━━━━━━━━━━━━━━━━━━━━━━━━━━━━\u001b[0m \u001b[32m280.2/280.2 KB\u001b[0m \u001b[31m30.3 MB/s\u001b[0m eta \u001b[36m0:00:00\u001b[0m\n",
            "\u001b[?25hRequirement already satisfied: pyparsing>=2.2.1 in /usr/local/lib/python3.9/dist-packages (from jwst) (3.0.9)\n",
            "Collecting stcal<1.4,>=1.3.3\n",
            "  Downloading stcal-1.3.4-py3-none-any.whl (82 kB)\n",
            "\u001b[2K     \u001b[90m━━━━━━━━━━━━━━━━━━━━━━━━━━━━━━━━━━━━━━━━\u001b[0m \u001b[32m82.6/82.6 KB\u001b[0m \u001b[31m9.7 MB/s\u001b[0m eta \u001b[36m0:00:00\u001b[0m\n",
            "\u001b[?25hCollecting stsci.image>=2.3.5\n",
            "  Downloading stsci.image-2.3.5.tar.gz (17 kB)\n",
            "  Installing build dependencies ... \u001b[?25l\u001b[?25hdone\n",
            "  Getting requirements to build wheel ... \u001b[?25l\u001b[?25hdone\n",
            "  Preparing metadata (pyproject.toml) ... \u001b[?25l\u001b[?25hdone\n",
            "Collecting wiimatch>=0.2.1\n",
            "  Downloading wiimatch-0.3.1-py3-none-any.whl (17 kB)\n",
            "Collecting stpipe<1.0,>=0.4.5\n",
            "  Downloading stpipe-0.4.5-py3-none-any.whl (81 kB)\n",
            "\u001b[2K     \u001b[90m━━━━━━━━━━━━━━━━━━━━━━━━━━━━━━━━━━━━━━━━\u001b[0m \u001b[32m82.0/82.0 KB\u001b[0m \u001b[31m10.4 MB/s\u001b[0m eta \u001b[36m0:00:00\u001b[0m\n",
            "\u001b[?25hCollecting astropy>=5.2\n",
            "  Downloading astropy-5.2.1-cp39-cp39-manylinux_2_12_x86_64.manylinux2010_x86_64.whl (11.2 MB)\n",
            "\u001b[2K     \u001b[90m━━━━━━━━━━━━━━━━━━━━━━━━━━━━━━━━━━━━━━━━\u001b[0m \u001b[32m11.2/11.2 MB\u001b[0m \u001b[31m61.6 MB/s\u001b[0m eta \u001b[36m0:00:00\u001b[0m\n",
            "\u001b[?25hCollecting stdatamodels<1.0,>=0.4.5\n",
            "  Downloading stdatamodels-0.4.5-py3-none-any.whl (35 kB)\n",
            "Collecting BayesicFitting<3.1.0,>=3.0.1\n",
            "  Downloading BayesicFitting-3.0.1-py3-none-any.whl (5.5 MB)\n",
            "\u001b[2K     \u001b[90m━━━━━━━━━━━━━━━━━━━━━━━━━━━━━━━━━━━━━━━━\u001b[0m \u001b[32m5.5/5.5 MB\u001b[0m \u001b[31m63.6 MB/s\u001b[0m eta \u001b[36m0:00:00\u001b[0m\n",
            "\u001b[?25hRequirement already satisfied: numpy>=1.20 in /usr/local/lib/python3.9/dist-packages (from jwst) (1.22.4)\n",
            "Collecting scipy<1.10.0,>=1.6.0\n",
            "  Downloading scipy-1.9.3-cp39-cp39-manylinux_2_17_x86_64.manylinux2014_x86_64.whl (33.8 MB)\n",
            "\u001b[2K     \u001b[90m━━━━━━━━━━━━━━━━━━━━━━━━━━━━━━━━━━━━━━━━\u001b[0m \u001b[32m33.8/33.8 MB\u001b[0m \u001b[31m12.6 MB/s\u001b[0m eta \u001b[36m0:00:00\u001b[0m\n",
            "\u001b[?25hRequirement already satisfied: scikit-image>=0.17.2 in /usr/local/lib/python3.9/dist-packages (from jwst) (0.19.3)\n",
            "Collecting spherical-geometry>=1.2.22\n",
            "  Downloading spherical_geometry-1.2.23-cp39-cp39-manylinux_2_12_x86_64.manylinux2010_x86_64.whl (946 kB)\n",
            "\u001b[2K     \u001b[90m━━━━━━━━━━━━━━━━━━━━━━━━━━━━━━━━━━━━━━\u001b[0m \u001b[32m946.7/946.7 KB\u001b[0m \u001b[31m52.2 MB/s\u001b[0m eta \u001b[36m0:00:00\u001b[0m\n",
            "\u001b[?25hCollecting stsci.imagestats>=1.6.3\n",
            "  Downloading stsci.imagestats-1.6.3.tar.gz (96 kB)\n",
            "\u001b[2K     \u001b[90m━━━━━━━━━━━━━━━━━━━━━━━━━━━━━━━━━━━━━━━━\u001b[0m \u001b[32m96.4/96.4 KB\u001b[0m \u001b[31m11.7 MB/s\u001b[0m eta \u001b[36m0:00:00\u001b[0m\n",
            "\u001b[?25h  Installing build dependencies ... \u001b[?25l\u001b[?25hdone\n",
            "  Getting requirements to build wheel ... \u001b[?25l\u001b[?25hdone\n",
            "  Preparing metadata (pyproject.toml) ... \u001b[?25l\u001b[?25hdone\n",
            "Requirement already satisfied: packaging>=16.0 in /usr/local/lib/python3.9/dist-packages (from asdf>=2.14.1->jwst) (23.0)\n",
            "Requirement already satisfied: importlib-metadata>=4.11.4 in /usr/local/lib/python3.9/dist-packages (from asdf>=2.14.1->jwst) (6.0.0)\n",
            "Collecting asdf-unit-schemas>=0.1.0\n",
            "  Downloading asdf_unit_schemas-0.1.0-py3-none-any.whl (11 kB)\n",
            "Requirement already satisfied: jsonschema>=4.0.1 in /usr/local/lib/python3.9/dist-packages (from asdf>=2.14.1->jwst) (4.3.3)\n",
            "Requirement already satisfied: pyyaml>=3.10 in /usr/local/lib/python3.9/dist-packages (from asdf>=2.14.1->jwst) (6.0)\n",
            "Collecting jmespath>=0.6.2\n",
            "  Downloading jmespath-1.0.1-py3-none-any.whl (20 kB)\n",
            "Collecting semantic-version>=2.8\n",
            "  Downloading semantic_version-2.10.0-py2.py3-none-any.whl (15 kB)\n",
            "Collecting asdf-standard>=1.0.1\n",
            "  Downloading asdf_standard-1.0.3-py3-none-any.whl (71 kB)\n",
            "\u001b[2K     \u001b[90m━━━━━━━━━━━━━━━━━━━━━━━━━━━━━━━━━━━━━━━━\u001b[0m \u001b[32m71.8/71.8 KB\u001b[0m \u001b[31m9.3 MB/s\u001b[0m eta \u001b[36m0:00:00\u001b[0m\n",
            "\u001b[?25hCollecting asdf-coordinates-schemas\n",
            "  Downloading asdf_coordinates_schemas-0.1.0.tar.gz (11 kB)\n",
            "  Installing build dependencies ... \u001b[?25l\u001b[?25hdone\n",
            "  Getting requirements to build wheel ... \u001b[?25l\u001b[?25hdone\n",
            "  Preparing metadata (pyproject.toml) ... \u001b[?25l\u001b[?25hdone\n",
            "Requirement already satisfied: pyerfa>=2.0 in /usr/local/lib/python3.9/dist-packages (from astropy>=5.2->jwst) (2.0.0.1)\n",
            "Requirement already satisfied: future in /usr/local/lib/python3.9/dist-packages (from BayesicFitting<3.1.0,>=3.0.1->jwst) (0.16.0)\n",
            "Requirement already satisfied: matplotlib>=2.0 in /usr/local/lib/python3.9/dist-packages (from BayesicFitting<3.1.0,>=3.0.1->jwst) (3.5.3)\n",
            "Requirement already satisfied: lxml in /usr/local/lib/python3.9/dist-packages (from crds>=11.16.19->jwst) (4.9.2)\n",
            "Collecting parsley\n",
            "  Downloading Parsley-1.3-py2.py3-none-any.whl (88 kB)\n",
            "\u001b[2K     \u001b[90m━━━━━━━━━━━━━━━━━━━━━━━━━━━━━━━━━━━━━━━━\u001b[0m \u001b[32m88.9/88.9 KB\u001b[0m \u001b[31m9.8 MB/s\u001b[0m eta \u001b[36m0:00:00\u001b[0m\n",
            "\u001b[?25hRequirement already satisfied: filelock in /usr/local/lib/python3.9/dist-packages (from crds>=11.16.19->jwst) (3.9.0)\n",
            "Collecting asdf-wcs-schemas\n",
            "  Downloading asdf_wcs_schemas-0.1.1.tar.gz (22 kB)\n",
            "  Installing build dependencies ... \u001b[?25l\u001b[?25hdone\n",
            "  Getting requirements to build wheel ... \u001b[?25l\u001b[?25hdone\n",
            "  Preparing metadata (pyproject.toml) ... \u001b[?25l\u001b[?25hdone\n",
            "Requirement already satisfied: setuptools in /usr/local/lib/python3.9/dist-packages (from photutils>=1.4.0->jwst) (57.4.0)\n",
            "Requirement already satisfied: idna<3,>=2.5 in /usr/local/lib/python3.9/dist-packages (from requests>=2.22->jwst) (2.10)\n",
            "Requirement already satisfied: urllib3<1.27,>=1.21.1 in /usr/local/lib/python3.9/dist-packages (from requests>=2.22->jwst) (1.26.14)\n",
            "Requirement already satisfied: certifi>=2017.4.17 in /usr/local/lib/python3.9/dist-packages (from requests>=2.22->jwst) (2022.12.7)\n",
            "Requirement already satisfied: chardet<5,>=3.0.2 in /usr/local/lib/python3.9/dist-packages (from requests>=2.22->jwst) (4.0.0)\n",
            "Requirement already satisfied: imageio>=2.4.1 in /usr/local/lib/python3.9/dist-packages (from scikit-image>=0.17.2->jwst) (2.9.0)\n",
            "Requirement already satisfied: PyWavelets>=1.1.1 in /usr/local/lib/python3.9/dist-packages (from scikit-image>=0.17.2->jwst) (1.4.1)\n",
            "Requirement already satisfied: tifffile>=2019.7.26 in /usr/local/lib/python3.9/dist-packages (from scikit-image>=0.17.2->jwst) (2023.2.28)\n",
            "Requirement already satisfied: networkx>=2.2 in /usr/local/lib/python3.9/dist-packages (from scikit-image>=0.17.2->jwst) (3.0)\n",
            "Requirement already satisfied: pillow!=7.1.0,!=7.1.1,!=8.3.0,>=6.1.0 in /usr/local/lib/python3.9/dist-packages (from scikit-image>=0.17.2->jwst) (8.4.0)\n",
            "Collecting stsci.stimage\n",
            "  Downloading stsci.stimage-0.2.6-cp39-cp39-manylinux_2_5_x86_64.manylinux1_x86_64.manylinux_2_12_x86_64.manylinux2010_x86_64.whl (163 kB)\n",
            "\u001b[2K     \u001b[90m━━━━━━━━━━━━━━━━━━━━━━━━━━━━━━━━━━━━━━\u001b[0m \u001b[32m163.8/163.8 KB\u001b[0m \u001b[31m17.6 MB/s\u001b[0m eta \u001b[36m0:00:00\u001b[0m\n",
            "\u001b[?25hRequirement already satisfied: zipp>=0.5 in /usr/local/lib/python3.9/dist-packages (from importlib-metadata>=4.11.4->asdf>=2.14.1->jwst) (3.15.0)\n",
            "Requirement already satisfied: attrs>=17.4.0 in /usr/local/lib/python3.9/dist-packages (from jsonschema>=4.0.1->asdf>=2.14.1->jwst) (22.2.0)\n",
            "Requirement already satisfied: pyrsistent!=0.17.0,!=0.17.1,!=0.17.2,>=0.14.0 in /usr/local/lib/python3.9/dist-packages (from jsonschema>=4.0.1->asdf>=2.14.1->jwst) (0.19.3)\n",
            "Requirement already satisfied: cycler>=0.10 in /usr/local/lib/python3.9/dist-packages (from matplotlib>=2.0->BayesicFitting<3.1.0,>=3.0.1->jwst) (0.11.0)\n",
            "Requirement already satisfied: fonttools>=4.22.0 in /usr/local/lib/python3.9/dist-packages (from matplotlib>=2.0->BayesicFitting<3.1.0,>=3.0.1->jwst) (4.39.0)\n",
            "Requirement already satisfied: kiwisolver>=1.0.1 in /usr/local/lib/python3.9/dist-packages (from matplotlib>=2.0->BayesicFitting<3.1.0,>=3.0.1->jwst) (1.4.4)\n",
            "Requirement already satisfied: python-dateutil>=2.7 in /usr/local/lib/python3.9/dist-packages (from matplotlib>=2.0->BayesicFitting<3.1.0,>=3.0.1->jwst) (2.8.2)\n",
            "Requirement already satisfied: six>=1.5 in /usr/local/lib/python3.9/dist-packages (from python-dateutil>=2.7->matplotlib>=2.0->BayesicFitting<3.1.0,>=3.0.1->jwst) (1.15.0)\n",
            "Building wheels for collected packages: stsci.image, stsci.imagestats, asdf-coordinates-schemas, asdf-wcs-schemas\n",
            "  Building wheel for stsci.image (pyproject.toml) ... \u001b[?25l\u001b[?25hdone\n",
            "  Created wheel for stsci.image: filename=stsci.image-2.3.5-cp39-cp39-linux_x86_64.whl size=37824 sha256=61db742121e5c85f414553c0b8222158918a886aad79f952124be3693d8b783e\n",
            "  Stored in directory: /root/.cache/pip/wheels/c6/d7/c2/5e6b3f3c8667d02ee950c0268e46806b2adc4781069d3c53da\n",
            "  Building wheel for stsci.imagestats (pyproject.toml) ... \u001b[?25l\u001b[?25hdone\n",
            "  Created wheel for stsci.imagestats: filename=stsci.imagestats-1.6.3-cp39-cp39-linux_x86_64.whl size=45173 sha256=b830278536347227e5a7f3066dd65f9278df4c7ae6cfd5b81766582d4172f00c\n",
            "  Stored in directory: /root/.cache/pip/wheels/54/04/96/2b8d5ec541a479546b4730f2d1e4b9c414590b098544576a13\n",
            "  Building wheel for asdf-coordinates-schemas (pyproject.toml) ... \u001b[?25l\u001b[?25hdone\n",
            "  Created wheel for asdf-coordinates-schemas: filename=asdf_coordinates_schemas-0.1.0-py3-none-any.whl size=19008 sha256=f00aa06e2f1e6c076ec4de4bbaf121bba321cdf49aee007ca3a358e79030813b\n",
            "  Stored in directory: /root/.cache/pip/wheels/d2/ec/e5/fa0a97eac37491832995f130264c88aa8e1033689e4cb5211f\n",
            "  Building wheel for asdf-wcs-schemas (pyproject.toml) ... \u001b[?25l\u001b[?25hdone\n",
            "  Created wheel for asdf-wcs-schemas: filename=asdf_wcs_schemas-0.1.1-py3-none-any.whl size=26605 sha256=84cf14257364ab7256292bbb398e48612cc825b28e9bd377beb617ff9c99250c\n",
            "  Stored in directory: /root/.cache/pip/wheels/39/de/77/432e1ddeb8056a8f97c31817a2813a3fd03695e50f9f60e000\n",
            "Successfully built stsci.image stsci.imagestats asdf-coordinates-schemas asdf-wcs-schemas\n",
            "Installing collected packages: parsley, stsci.stimage, stsci.imagestats, semantic-version, scipy, psutil, jmespath, asdf-standard, wiimatch, stsci.image, astropy, asdf-unit-schemas, asdf-transform-schemas, stcal, spherical-geometry, poppy, photutils, drizzle, BayesicFitting, asdf, crds, asdf-wcs-schemas, asdf-coordinates-schemas, asdf-astropy, stdatamodels, gwcs, tweakwcs, stpipe, jwst\n",
            "  Attempting uninstall: scipy\n",
            "    Found existing installation: scipy 1.10.1\n",
            "    Uninstalling scipy-1.10.1:\n",
            "      Successfully uninstalled scipy-1.10.1\n",
            "  Attempting uninstall: psutil\n",
            "    Found existing installation: psutil 5.4.8\n",
            "    Uninstalling psutil-5.4.8:\n",
            "      Successfully uninstalled psutil-5.4.8\n",
            "  Attempting uninstall: astropy\n",
            "    Found existing installation: astropy 4.3.1\n",
            "    Uninstalling astropy-4.3.1:\n",
            "      Successfully uninstalled astropy-4.3.1\n",
            "Successfully installed BayesicFitting-3.0.1 asdf-2.14.3 asdf-astropy-0.3.0 asdf-coordinates-schemas-0.1.0 asdf-standard-1.0.3 asdf-transform-schemas-0.3.0 asdf-unit-schemas-0.1.0 asdf-wcs-schemas-0.1.1 astropy-5.2.1 crds-11.16.21 drizzle-1.13.7 gwcs-0.18.3 jmespath-1.0.1 jwst-1.9.6 parsley-1.3 photutils-1.6.0 poppy-1.0.3 psutil-5.9.4 scipy-1.9.3 semantic-version-2.10.0 spherical-geometry-1.2.23 stcal-1.3.4 stdatamodels-0.4.5 stpipe-0.4.5 stsci.image-2.3.5 stsci.imagestats-1.6.3 stsci.stimage-0.2.6 tweakwcs-0.8.1 wiimatch-0.3.1\n"
          ]
        }
      ]
    },
    {
      "cell_type": "markdown",
      "source": [
        "We will again assign the environmental variables that allow the computer to know the weblink for obtaining reference files and where to store these files.  We will also import all the python packages we need for this stage."
      ],
      "metadata": {
        "id": "WJSP8zXaT5rM"
      }
    },
    {
      "cell_type": "code",
      "execution_count": 1,
      "metadata": {
        "id": "_xjl3EpvYvDq"
      },
      "outputs": [],
      "source": [
        "import os\n",
        "\n",
        "os.environ['CRDS_SERVER_URL']= 'https://jwst-crds.stsci.edu'\n",
        "os.environ['CRDS_PATH'] = '/content/JWST_practical/crds_cache' \n",
        "\n",
        "import numpy as np\n",
        "from astropy.io import fits\n",
        "import matplotlib.pyplot as plt\n",
        "# jwst pipeline packages\n",
        "import jwst\n",
        "from jwst.assign_wcs.assign_wcs_step import AssignWcsStep\n",
        "from jwst.background.background_step import BackgroundStep\n",
        "from jwst.extract_2d.extract_2d_step import Extract2dStep\n",
        "from jwst.srctype.srctype_step import SourceTypeStep\n",
        "from jwst.wavecorr.wavecorr_step import WavecorrStep\n",
        "from jwst.flatfield.flat_field_step import FlatFieldStep\n",
        "from jwst.photom.photom_step import PhotomStep\n",
        "from jwst.stpipe import Step \n",
        "from jwst import datamodels\n",
        "\n",
        "output_dir = './drive/MyDrive/jwst_tutorial_output'\n",
        " "
      ]
    },
    {
      "cell_type": "markdown",
      "source": [
        "Let's have a look at what is inside a rateints file.  First print out all the extensions."
      ],
      "metadata": {
        "id": "zeeky5B3y6df"
      }
    },
    {
      "cell_type": "code",
      "source": [
        "seg ='001'\n",
        "hdul = fits.open('/content/drive/MyDrive/jwst_tutorial_output/WASP-39b_prism_seg_%s_rateints.fits'%(seg))\n",
        "hdul.info()"
      ],
      "metadata": {
        "id": "XWGN--TgzCJ7",
        "outputId": "cc1ac5b3-f145-4790-ff69-1306cd558517",
        "colab": {
          "base_uri": "https://localhost:8080/"
        }
      },
      "execution_count": 2,
      "outputs": [
        {
          "output_type": "stream",
          "name": "stdout",
          "text": [
            "Filename: /content/drive/MyDrive/jwst_tutorial_output/WASP-39b_prism_seg_001_rateints.fits\n",
            "No.    Name      Ver    Type      Cards   Dimensions   Format\n",
            "  0  PRIMARY       1 PrimaryHDU     241   ()      \n",
            "  1  SCI           1 ImageHDU        63   (512, 32, 61)   float32   \n",
            "  2  ERR           1 ImageHDU        11   (512, 32, 61)   float32   \n",
            "  3  DQ            1 ImageHDU        12   (512, 32, 61)   int32 (rescales to uint32)   \n",
            "  4  INT_TIMES     1 BinTableHDU     24   61R x 7C   [J, D, D, D, D, D, D]   \n",
            "  5  VAR_POISSON    1 ImageHDU        10   (512, 32, 61)   float32   \n",
            "  6  VAR_RNOISE    1 ImageHDU        10   (512, 32, 61)   float32   \n",
            "  7  ASDF          1 BinTableHDU     11   1R x 1C   [8005B]   \n"
          ]
        }
      ]
    },
    {
      "cell_type": "markdown",
      "source": [
        "The first extension is the 'header'.  It contains various important information about the observation."
      ],
      "metadata": {
        "id": "pt5RIBqczipM"
      }
    },
    {
      "cell_type": "code",
      "source": [
        "for i in range (len(hdul[0].header)):\n",
        "  print (hdul[0].header[i])"
      ],
      "metadata": {
        "id": "53DBFeq32JZ_",
        "outputId": "4319e0e9-c81e-45aa-b727-ea97180c6070",
        "colab": {
          "base_uri": "https://localhost:8080/"
        }
      },
      "execution_count": 3,
      "outputs": [
        {
          "output_type": "stream",
          "name": "stdout",
          "text": [
            "True\n",
            "8\n",
            "0\n",
            "True\n",
            "2023-03-10T14:30:44.086\n",
            "STSCI\n",
            "UTC\n",
            "s\n",
            "WASP-39b_prism_seg_001_rateints.fits\n",
            "2022_2a\n",
            "PRDOPSSOC-055\n",
            "008.004.011.000\n",
            "1.9.6\n",
            "RELEASE\n",
            "CubeModel\n",
            "JWST\n",
            "False\n",
            "59770.49140304398\n",
            "0.0\n",
            "False\n",
            "\n",
            "Program information\n",
            "\n",
            "The Transiting Exoplanet Community Early Release Science Program\n",
            "Batalha, Natalie\n",
            "ERS\n",
            "Planets and Planet Formation\n",
            "\n",
            "Observation identifiers\n",
            "\n",
            "2022-07-10\n",
            "15:30:58.605\n",
            "2022-07-10T15:30:58.605\n",
            "2022-07-10T23:37:13.245\n",
            "V01366004001P0000000004101\n",
            "01366004001\n",
            "01366\n",
            "004\n",
            "001\n",
            "04\n",
            "1\n",
            "01\n",
            "1\n",
            "False\n",
            "NIRSpec Bright Object Time Series\n",
            "NIRSpec PRISM\n",
            "Transmission - WASP-39b\n",
            "\n",
            "Visit information\n",
            "\n",
            "OK\n",
            "CALCULATED_TRACK_TR_202111\n",
            "PRIME_TARGETED_FIXED\n",
            "2022-07-10 14:05:46.1740000\n",
            "SUCCESSFUL\n",
            "3\n",
            "False\n",
            "False\n",
            "True\n",
            "False\n",
            "False\n",
            "\n",
            "Target information\n",
            "\n",
            "WASP-39\n",
            "WASP-39\n",
            "FIXED\n",
            "217.3266479166666\n",
            "-3.444500000000005\n",
            "0.1\n",
            "0.1\n",
            "-0.01905299998720449\n",
            "0.000345\n",
            "2015-07-02 12:00:00.0000000\n",
            "217.3266479166666\n",
            "-3.4445\n",
            "UNKNOWN\n",
            "\n",
            "Instrument configuration information\n",
            "\n",
            "NIRSPEC\n",
            "NRS1\n",
            "CLEAR\n",
            "PRISM\n",
            "S1600A1\n",
            "3\n",
            "PRIMARYPARK_ALLCLOSED\n",
            "NONE\n",
            "BRIGHTOBJ\n",
            "0.3360183000002388\n",
            "0.032141870000008\n",
            "168.3666808\n",
            "16.0910148\n",
            "168.3209351999733\n",
            "16.07957840000433\n",
            "36.00789000000665\n",
            "\n",
            "Exposure parameters\n",
            "\n",
            "3\n",
            "PRIME\n",
            "NRS_BRIGHTOBJ\n",
            "59770.64651163195\n",
            "59770.81534635417\n",
            "59770.98418107639\n",
            "2022192T004750406_001_osf.xml\n",
            "NRSRAPID\n",
            "1\n",
            "4\n",
            "1\n",
            "61\n",
            "1\n",
            "6100\n",
            "5\n",
            "1\n",
            "1\n",
            "0\n",
            "0\n",
            "0\n",
            "1\n",
            "10.0\n",
            "0.22616\n",
            "0.22616\n",
            "1.1308\n",
            "24312.2\n",
            "29614.96\n",
            "1\n",
            "1\n",
            "False\n",
            "False\n",
            "491\n",
            "50\n",
            "0.000481728195327073\n",
            "1.429\n",
            "\n",
            "Subarray parameters\n",
            "\n",
            "SUB512\n",
            "1025\n",
            "959\n",
            "512\n",
            "32\n",
            "2\n",
            "1\n",
            "\n",
            "Dither information\n",
            "\n",
            "NONE\n",
            "1\n",
            "1\n",
            "1\n",
            "0\n",
            "NONE\n",
            "1\n",
            "1\n",
            "6.03933060849859e-13\n",
            "-6.0457443092806e-13\n",
            "\n",
            "Aperture information\n",
            "\n",
            "NRS_S1600A1_SLIT\n",
            "NRS_S1600A1_SLIT\n",
            "\n",
            "Velocity aberration correction information\n",
            "\n",
            "217.3285555099805\n",
            "-3.444114550088953\n",
            "\n",
            "Time information\n",
            "\n",
            "74.12207017187029\n",
            "59770.64736952628\n",
            "59770.98507139476\n",
            "59770.81622046099\n",
            "78.12973489053547\n",
            "59770.64741591129\n",
            "59770.98511778713\n",
            "59770.81626684969\n",
            "\n",
            "Guide star information\n",
            "\n",
            "1\n",
            "2022-07-10 14:48:33.3400000\n",
            "2022-07-10 14:52:35.0040000\n",
            "S6RH006828\n",
            "217.2676926329089\n",
            "-3.400432076690665\n",
            "0.003888966311322471\n",
            "0.001643014572456054\n",
            "17.1024169921875\n",
            "0.07367545366287231\n",
            "112.4070248402298\n",
            "FINEGUIDE\n",
            "2022-07-10 23:38:36.7010000\n",
            "\n",
            "Reference file information\n",
            "\n",
            "\n",
            "CRDS parameters\n",
            "\n",
            "11.16.21\n",
            "jwst_1063.pmap\n",
            "\n",
            "Dark reference file information\n",
            "\n",
            "crds://jwst_nirspec_dark_0314.fits\n",
            "\n",
            "Gain reference file information\n",
            "\n",
            "crds://jwst_nirspec_gain_0025.fits\n",
            "\n",
            "Linearity reference file information\n",
            "\n",
            "crds://jwst_nirspec_linearity_0024.fits\n",
            "\n",
            "Mask reference file information\n",
            "\n",
            "crds://jwst_nirspec_mask_0037.fits\n",
            "\n",
            "Read noise reference file information\n",
            "\n",
            "crds://jwst_nirspec_readnoise_0043.fits\n",
            "\n",
            "Saturation reference file information\n",
            "\n",
            "crds://jwst_nirspec_saturation_0028.fits\n",
            "\n",
            "Superbias reference file information\n",
            "\n",
            "crds://jwst_nirspec_superbias_0299.fits\n",
            "\n",
            "Calibration step information\n",
            "\n",
            "COMPLETE\n",
            "COMPLETE\n",
            "COMPLETE\n",
            "SKIPPED\n",
            "COMPLETE\n",
            "COMPLETE\n",
            "COMPLETE\n",
            "COMPLETE\n"
          ]
        }
      ]
    },
    {
      "cell_type": "markdown",
      "source": [
        "Let's look at a single integration level image \n",
        "from the file, picked randomly.  Enter the correct extension number needed to see the science data (x)"
      ],
      "metadata": {
        "id": "rdRGbK9M2i6B"
      }
    },
    {
      "cell_type": "code",
      "source": [
        "#let x be the extention that holds the science data\n",
        "x =  \"SCI\"\n",
        " "
      ],
      "metadata": {
        "id": "LNUlzSzgzlwz"
      },
      "execution_count": 4,
      "outputs": []
    },
    {
      "cell_type": "code",
      "source": [
        "data = hdul[x].data\n",
        "data.shape"
      ],
      "metadata": {
        "id": "BNxpzIEOzsX8",
        "outputId": "367524a6-eb4b-4510-8a73-f635f23b61cc",
        "colab": {
          "base_uri": "https://localhost:8080/"
        }
      },
      "execution_count": 5,
      "outputs": [
        {
          "output_type": "execute_result",
          "data": {
            "text/plain": [
              "(61, 32, 512)"
            ]
          },
          "metadata": {},
          "execution_count": 5
        }
      ]
    },
    {
      "cell_type": "markdown",
      "source": [
        "Now we will pick a random integration and look at the integration image.  Remember the values in each pixel are now in units of e$^-$/sec (i.e. it is a count rate)."
      ],
      "metadata": {
        "id": "LPRVbEfB6Ect"
      }
    },
    {
      "cell_type": "code",
      "source": [
        "z = int(np.random.uniform(0,data.shape[0]-1))\n",
        "img = data[z]\n",
        "plt.figure('integration %s'%(z))\n",
        "plt.title('integration %s'%(z))\n",
        "plt.imshow(img, aspect='auto', vmin = 0, vmax = np.nanpercentile(img,99));"
      ],
      "metadata": {
        "id": "Eu9nA3dDz--S",
        "outputId": "428099af-d3e4-48d9-8588-e08c516698aa",
        "colab": {
          "base_uri": "https://localhost:8080/",
          "height": 281
        }
      },
      "execution_count": 6,
      "outputs": [
        {
          "output_type": "display_data",
          "data": {
            "text/plain": [
              "<Figure size 432x288 with 1 Axes>"
            ],
            "image/png": "[encoded data removed]"
          },
          "metadata": {
            "needs_background": "light"
          }
        }
      ]
    },
    {
      "cell_type": "markdown",
      "source": [
        "What are all the white pixels?  What value do they have?  Print out the first row of values."
      ],
      "metadata": {
        "id": "bAFiIY581ZlA"
      }
    },
    {
      "cell_type": "code",
      "source": [
        "print (img[0])"
      ],
      "metadata": {
        "id": "Ry0-a2Ew1ly8",
        "outputId": "2fb7a72b-e56b-4d6d-fc62-f23549b13c28",
        "colab": {
          "base_uri": "https://localhost:8080/"
        }
      },
      "execution_count": 7,
      "outputs": [
        {
          "output_type": "stream",
          "name": "stdout",
          "text": [
            "[ 1.40140009e+00             nan  8.67741466e-01 -1.17776203e+00\n",
            "  4.21417356e-01 -3.58920932e+00 -1.36822611e-01 -1.42843449e+00\n",
            "  1.96240032e+00  2.10016459e-01 -7.59356260e-01 -2.61063313e+00\n",
            "  1.03710435e-01  1.00998782e-01 -1.69901359e+00 -2.56141281e+00\n",
            " -1.96258113e-01 -1.00445306e+00 -4.92545462e+00 -2.54957008e+00\n",
            "  1.36260629e+00 -8.88939857e-01 -8.02341640e-01  2.00983143e+00\n",
            "  4.14693356e+00 -2.76010871e+00  2.75246930e+00 -8.67435634e-01\n",
            " -1.03292480e-01 -8.02379370e-01 -3.59714675e+00  2.04628420e+00\n",
            " -2.18721747e+00 -9.21254396e-01 -7.90281868e+00 -5.07968760e+00\n",
            "  7.45434761e-01 -6.72891617e+00 -2.02886033e+00 -2.47835070e-01\n",
            "  1.21007271e-01 -7.15983570e-01 -2.35743508e-01 -1.06495810e+00\n",
            " -8.90169442e-02 -2.87441999e-01  6.60170197e-01  2.32730842e+00\n",
            " -5.72891712e-01  5.05742908e-01  9.32563245e-01  5.52594364e-01\n",
            " -8.78245607e-02  2.32165718e+00  2.24747062e+00  3.15623999e-01\n",
            " -6.59087038e+00 -3.83195639e+00 -3.16651845e+00  3.05829263e+00\n",
            "  9.65463400e-01 -1.09316885e+00 -9.81281340e-01             nan\n",
            "  3.77977753e+00 -6.83883667e-01 -2.26853514e+00 -8.40717316e-01\n",
            " -7.01463938e+00 -4.60844576e-01 -3.22765660e+00 -4.21627188e+00\n",
            " -9.18870163e+00 -3.71429396e+00 -2.20871353e+00 -1.11728096e+00\n",
            " -1.48400620e-01  2.04816341e+00 -1.25160015e+00 -1.72676480e+00\n",
            " -8.46423721e+00 -1.46348655e+00  1.05577219e+00 -6.48240626e-01\n",
            " -3.26112866e+00  4.77225900e-01 -1.02929068e+00 -1.99333763e+00\n",
            "  1.20623505e+00 -9.28466916e-02 -2.76850425e-02  2.18932724e+00\n",
            " -3.41400361e+00 -5.87914288e-01 -1.55665410e+00 -4.86223364e+00\n",
            " -2.48058200e+00 -4.30913806e-01 -7.04221821e+00             nan\n",
            "             nan             nan             nan             nan\n",
            "  3.35274911e+00  8.21386337e-01 -3.57463837e-01 -6.43295431e+00\n",
            " -8.18934441e+00 -8.38996029e+00 -8.74502063e-01 -1.25166309e+00\n",
            "  5.55816770e-01 -4.90730476e+00 -2.85925269e+00 -4.07685566e+00\n",
            " -1.32661939e+00  1.88670605e-01 -7.04963684e-01 -4.72052842e-01\n",
            " -1.07873118e+00 -1.49976701e-01  2.09167576e+00 -4.96275949e+00\n",
            " -1.89566982e+00 -2.99743795e+00  6.89365208e-01  1.66962177e-01\n",
            " -3.69154644e+00  2.05102608e-01  1.57909262e+00 -3.32647800e+00\n",
            "  3.45404148e-01  3.58575916e+00 -2.22948217e+00 -8.61788452e-01\n",
            " -6.74159348e-01 -3.69961321e-01  8.43759239e-01  3.94168288e-01\n",
            " -2.56215602e-01  2.17715293e-01  2.75903559e+00 -5.60206413e-01\n",
            "  1.51312268e+00 -3.14010072e+00 -5.98430395e+00 -2.49493027e+00\n",
            " -1.72064757e+00 -2.35052085e+00 -3.04997683e+00 -7.63974190e-01\n",
            " -1.12179235e-01 -4.25963688e+00  4.22098494e+00  3.38146061e-01\n",
            "  3.17067838e+00 -4.43595320e-01 -2.88065529e+00  1.43369481e-01\n",
            "  8.72523904e-01 -2.21189523e+00  6.71864569e-01  1.01663280e+00\n",
            "  3.93360376e+00  1.06035590e-01 -6.05466485e-01 -1.86748469e+00\n",
            " -1.26603508e+00  1.05456269e+00 -5.96946383e+00 -1.05459607e+00\n",
            " -2.17119479e+00 -2.72683084e-01 -4.07207489e+00 -1.93551981e+00\n",
            " -2.21452832e+00  5.75250089e-01 -1.18064821e+00 -2.66203117e+00\n",
            " -1.01654983e+00  2.34822094e-01  1.69012100e-01  3.37653995e-01\n",
            " -2.92888784e+00 -3.31477356e+00  3.99151707e+00 -1.06251061e-01\n",
            "  4.77710152e+00 -2.45135531e-01 -1.95185471e+00 -1.14238632e+00\n",
            "  2.41259599e+00  4.60844748e-02  2.32699585e+00 -3.05221647e-01\n",
            "  2.04281306e+00 -4.07564729e-01  2.47855473e+00 -2.63147879e+00\n",
            "  1.22776166e-01  1.54501915e+00 -2.41863513e+00             nan\n",
            " -2.92460382e-01  1.04608662e-01  2.03601152e-01 -2.84568787e-01\n",
            "  1.49257684e+00  6.76115692e-01 -5.05307198e-01 -3.64624500e+00\n",
            " -2.56747508e+00             nan             nan             nan\n",
            "             nan  3.35003996e+00 -4.76676226e+00 -7.40389228e-01\n",
            "  3.41486484e-01  1.46479154e+00  7.15903015e+01  8.79459045e+02\n",
            "  1.82360901e+02  1.44033837e+00  2.99204612e+00 -8.34426463e-01\n",
            "  2.13976073e+00  9.19366181e-01  1.43855500e+00  3.89046013e-01\n",
            "  1.39916682e+00 -4.51798534e+00  9.31896329e-01 -6.47548199e+00\n",
            "  4.23537111e+00 -9.87085283e-01  6.02849364e-01  2.70790637e-01\n",
            " -1.98308527e+00  3.67222881e+00  7.41258860e-01 -2.05848932e+00\n",
            " -1.10529542e+00  3.01870966e+00 -2.29294062e+00 -3.82736802e-01\n",
            " -1.12022591e+00 -1.36031434e-01 -4.45029527e-01  3.88061357e+00\n",
            " -2.35561299e+00 -4.23409605e+00  6.27307236e-01  6.07903898e-01\n",
            " -5.60563862e-01 -1.44667864e+00 -2.08323574e+00 -1.88128221e+00\n",
            "  3.77334058e-01 -5.85532784e-01  1.60941386e+00 -9.30023968e-01\n",
            "  5.52839220e-01  1.34282410e+00  5.15173769e+00  2.80784702e+00\n",
            "  3.76742601e-01 -2.82880878e+00 -2.86439872e+00 -1.40888703e+00\n",
            " -1.15702176e+00 -3.60108316e-01 -4.04053181e-01  1.57412827e-01\n",
            "  1.77417612e+00  1.65270746e+00  9.50693905e-01 -5.24622761e-02\n",
            "  1.40548897e+00  1.66080785e+00  5.53179085e-01  7.15221465e-01\n",
            " -8.03926811e-02 -1.78224564e+00 -5.63331306e-01  2.93416357e+00\n",
            " -1.92392659e+00  3.34546113e+00 -4.15378720e-01  2.50259399e+00\n",
            "  3.39256001e+00  4.85437059e+00 -1.99468327e+00 -2.81131411e+00\n",
            " -2.85652936e-01  1.29825532e-01 -3.55568409e+00  2.96743917e+00\n",
            "  1.72778654e+00 -8.66535425e-01 -1.59887195e-01 -3.78357220e+00\n",
            "  1.46112055e-01 -1.43329883e+00 -2.70021528e-01 -9.78105783e-01\n",
            " -1.49757802e+00 -1.26599622e+00             nan             nan\n",
            "             nan             nan  2.95040190e-01  5.43541288e+00\n",
            " -2.30228469e-01  4.03588915e+00  1.60761237e-01 -5.44344759e+00\n",
            " -3.58326472e-02 -1.50911450e+00  6.07847273e-01 -2.08292872e-01\n",
            " -1.80184436e+00  5.27754128e-01  1.80124474e+00 -3.22613144e+00\n",
            " -3.85621738e+00  1.15911591e+00 -7.53503859e-01 -2.29335725e-01\n",
            "             nan  2.11240983e+00  1.45392859e+00 -1.87142503e+00\n",
            "  6.26474619e+00  7.00555682e-01  4.59446199e-02 -1.13793755e+00\n",
            "             nan -1.18427002e+00 -3.47101569e-01 -1.63384378e-02\n",
            " -2.11094832e+00 -1.36535132e+00 -3.96317065e-01 -1.53983474e+00\n",
            " -5.36437988e-01  4.81865525e-01 -4.02096100e-03  1.98748350e+00\n",
            " -4.80991572e-01  1.88794863e+00 -4.80471134e+00  6.11720681e-01\n",
            " -2.86291528e+00  8.47791135e-01 -1.48291647e+00 -1.56435990e+00\n",
            " -5.13695574e+00  1.03931403e+00 -9.60425317e-01 -1.77020037e+00\n",
            " -3.99559760e+00 -7.16740429e-01 -3.05937505e+00  3.51900756e-01\n",
            "  7.05226958e-02 -5.93584108e+00             nan  8.11569393e-01\n",
            " -4.73486900e+00 -1.15944493e+00 -1.63216698e+00 -2.27961683e+00\n",
            " -1.33299375e+00 -7.45339841e-02  8.96020949e-01 -2.77009916e+00\n",
            "  4.60931450e-01  2.58167791e+00  4.70505580e-02 -1.54130548e-01\n",
            "  3.33795816e-01  1.88047624e+00 -2.58456922e+00  1.90315616e+00\n",
            "  2.49048805e+00 -4.82935333e+00  7.18412697e-01 -9.16246101e-02\n",
            "  3.85220289e+00  3.47317171e+00 -2.18883228e+00 -6.89459071e-02\n",
            "  4.02353793e-01  4.64736938e-01  4.05361116e-01  5.43513179e-01\n",
            "  1.71257806e+00  1.92400646e+00 -1.08127892e+00             nan\n",
            " -5.04505634e+00 -1.94405422e-01  2.84372640e+00 -2.29742742e+00\n",
            " -1.28757215e+00 -9.63805318e-01  8.72636855e-01  1.55055082e+00\n",
            " -4.15636063e+00  3.29267073e+00  1.88268626e+00  1.99409437e+00\n",
            "  2.51380873e+00  1.11059618e+00 -2.57614636e+00 -1.65285364e-01\n",
            "  2.29065228e+00  4.06780052e+00 -2.66474128e-01 -9.35807824e-01\n",
            " -1.14798105e+00 -2.17952204e+00 -1.09103568e-01 -1.17517352e+00\n",
            " -1.01971841e+00 -5.12600482e-01  4.00330544e+00  1.90653288e+00\n",
            " -2.79906130e+00  2.33474255e+00 -2.96008134e+00 -9.38189775e-02\n",
            "  3.86085296e+00             nan -9.98989046e-01 -5.88369429e-01\n",
            " -2.22673798e+00 -2.46881104e+00  3.56333280e+00  4.82614577e-01\n",
            " -4.68507290e+00 -6.68044239e-02 -1.90072107e+00 -1.96371067e+00\n",
            "             nan -3.36641622e+00 -9.41700339e-01 -6.67659950e+00\n",
            "  1.52675703e-01 -1.08420396e+00 -2.64804959e+00  2.31923722e-02\n",
            "  5.62144160e-01  8.35969391e+01  2.40950155e+00 -1.27016199e+00\n",
            "  1.30951643e+00 -3.38990307e+00  4.74604309e-01 -2.93442398e-01\n",
            " -3.85528350e+00  1.63406622e+00             nan  2.43428564e+00\n",
            "  1.91323534e-01             nan             nan             nan\n",
            "  3.17545861e-01 -1.87361315e-01 -1.56632984e+00  1.27013457e+00\n",
            "  9.44826603e-01  1.54345620e+00 -4.46801853e+00  3.95439565e-01\n",
            " -1.57281625e+00  7.74453163e-01  3.75770879e+00 -9.97718155e-01\n",
            " -1.77458501e+00  1.06010330e+00 -1.12336469e+00 -2.34188616e-01\n",
            " -1.89263165e+00  1.90929279e-01  6.84346735e-01  3.46035898e-01\n",
            "  6.00678802e-01 -2.23030233e+00 -9.61080194e-01  2.87626624e+00\n",
            "  9.38059270e-01 -1.49689941e-03 -2.23170906e-01 -4.56169033e+00\n",
            "  1.62140742e-01  8.14282298e-01 -2.42829695e-01 -9.74079967e-01\n",
            " -2.82315779e+00 -4.03120708e+00 -1.22422564e+00 -2.23549187e-01\n",
            " -9.14073825e-01  2.78222704e+00 -2.88991928e+00  8.29193652e-01]\n"
          ]
        }
      ]
    },
    {
      "cell_type": "markdown",
      "source": [
        "Print out the corresponding row in the DQ array.  What do you notice?"
      ],
      "metadata": {
        "id": "m7cyCOMu21u4"
      }
    },
    {
      "cell_type": "code",
      "source": [
        "DQ = hdul[3].data"
      ],
      "metadata": {
        "id": "lENKv6EXz2vd"
      },
      "execution_count": 8,
      "outputs": []
    },
    {
      "cell_type": "code",
      "source": [
        "print (DQ[z][0])"
      ],
      "metadata": {
        "id": "6hUsopNb2VHo",
        "outputId": "405d576b-f476-4b21-c4c3-85fcb3dbdcdc",
        "colab": {
          "base_uri": "https://localhost:8080/"
        }
      },
      "execution_count": 9,
      "outputs": [
        {
          "output_type": "stream",
          "name": "stdout",
          "text": [
            "[         0   16777217          0          0          0          0\n",
            "          0          0          0          0          0          0\n",
            "          0          0          0          0          0          0\n",
            "          0          0          0          0          0          0\n",
            "          0          0          0          0          0          0\n",
            "          0          0          0          0          0          0\n",
            "          0          0          0          0          0          0\n",
            "          0          0          0          0          0          0\n",
            "          0          0          0          0          0          0\n",
            "          0          0          0          0          0          0\n",
            "          0          0          0   16777217          0          0\n",
            "          0          0          0          0          0          0\n",
            "          0          0          0          0          0          0\n",
            "          0          0          0          0          0          0\n",
            "          0          0          0          0          0          0\n",
            "          0          0          0          0          0          0\n",
            "          0          0          0 1073741825 1073743873 1080069121\n",
            " 1073743873 1073741825          0          0          0          0\n",
            "          0          0          0          0          0          0\n",
            "          0          0          0          0          0          0\n",
            "          0          0          0          0          0          0\n",
            "          0          0          0          0          0          0\n",
            "          0          0          0          0          0          0\n",
            "          0          0          0          0          0          0\n",
            "          0          0          0          0          0          0\n",
            "          0          0          0          0          0          0\n",
            "          0          0          0          0          0          0\n",
            "          0          0          0          0          0          0\n",
            "          0          0          0          0          0          0\n",
            "          0          0          0          0          0          0\n",
            "          0          0          0          0          0          0\n",
            "          0          0          0          0          0          0\n",
            "          0          0          0          0          0          0\n",
            "          0          0          0          0          0 1090519041\n",
            "          0          0          0          0          0          0\n",
            "          0          0          0 1073741825 1073743873 1073743873\n",
            " 1073741825          0          0          0          0          0\n",
            "          0          0          0          0          0          0\n",
            "          0          0          0          0          0          0\n",
            "          0          0          0          0          0          0\n",
            "          0          0          0          0          0          0\n",
            "          0          0          0          0          0          0\n",
            "          0          0          0          0          0          0\n",
            "          0          0          0          0          0          0\n",
            "          0          0          0          0          0          0\n",
            "          0          0          0          0          0          0\n",
            "          0          0          0          0          0          0\n",
            "          0          0          0          0          0          0\n",
            "          0          0          0          0          0          0\n",
            "          0          0          0          0          0          0\n",
            "          0          0          0          0          0          0\n",
            "          0          0          0          0 1073741825 1073743873\n",
            " 1073741825   16777217          0          0          0          0\n",
            "          0          0          0          0          0          0\n",
            "          0          0          0          0          0          0\n",
            "          0          0 1090519041          0          0          0\n",
            "          0          0          0          0   16777217          0\n",
            "          0          0          0          0          0          0\n",
            "          0          0          0          0          0          0\n",
            "          0          0          0          0          0          0\n",
            "          0          0          0          0          0          0\n",
            "          0          0          0          0   16777217          0\n",
            "          0          0          0          0          0          0\n",
            "          0          0          0          0          0          0\n",
            "          0          0          0          0          0          0\n",
            "          0          0          0          0          0          0\n",
            "          0          0          0          0          0          0\n",
            "          0 1090519041          0          0          0          0\n",
            "          0          0          0          0          0          0\n",
            "          0          0          0          0          0          0\n",
            "          0          0          0          0          0          0\n",
            "          0          0          0          0          0          0\n",
            "          0          0          0          0          0   16777217\n",
            "          0          0          0          0          0          0\n",
            "          0          0          0          0 1073741825          0\n",
            "          0          0          0          0          0          0\n",
            "          0          0          0          0          0          0\n",
            "          0          0          0          0   16777217          0\n",
            "          0 1073741825 1073743873 1073741825          0          0\n",
            "          0          0          0          0          0          0\n",
            "          0          0          0          0          0          0\n",
            "          0          0          0          0          0          0\n",
            "          0          0          0          0          0          0\n",
            "          0          0          0          0          0          0\n",
            "          0          0          0          0          0          0\n",
            "          0          0]\n"
          ]
        }
      ]
    },
    {
      "cell_type": "markdown",
      "source": [
        "The non-zero flags are for 'bad pixels'.  These may be pixels that are intrinsically bad, and flagged as such, or could be due to saturation in the first group (no unstaurated groups), or a bad ramp that could not be fitted etc.  Each cause of bad pixels has a particular flag number.\n",
        "\n",
        "https://jwst-reffiles.stsci.edu/source/data_quality.html\n",
        "\n",
        "However a particular pixel may have more than one bad flag, in which case they are added up.\n",
        "So a pixel with flags 1 and 4 is given a number 5 in the DQ array.  The code below can deconstruct the number to give the individual flags.  \n",
        "\n"
      ],
      "metadata": {
        "id": "Wwa84s3k3IbA"
      }
    },
    {
      "cell_type": "code",
      "source": [
        "def workout_dq_flags(x):\n",
        "  aa= []\n",
        "  for i in range(1000):\n",
        "    bb = i+1\n",
        "    if 2**bb > x:\n",
        "      break\n",
        "    aa.append(2**bb)\n",
        "  for i in range(len(aa)-1,0,-1):\n",
        "    if i == len(aa)-1:\n",
        "      bb = x-aa[i]\n",
        "      print (aa[i])\n",
        "    else:\n",
        "      if bb/aa[i] < 1:\n",
        "        pass\n",
        "      else:\n",
        "        bb = bb-aa[i]\n",
        "        print (aa[i])\n",
        "    if bb == 2:\n",
        "      print (2)\n",
        "      break\n",
        "    if bb == 1:\n",
        "      print (1)\n",
        "      break\n",
        "\n",
        " "
      ],
      "metadata": {
        "id": "ApqS5lBg3uSA"
      },
      "execution_count": 10,
      "outputs": []
    },
    {
      "cell_type": "markdown",
      "source": [
        "Next pick a bad flag number you can see from the DQ array values you printed above and enter it into the function.  "
      ],
      "metadata": {
        "id": "cDIsGmcd_VUc"
      }
    },
    {
      "cell_type": "code",
      "source": [
        "#Enter the DG flag number\n",
        "x = 1073741825\n",
        "workout_dq_flags(x)"
      ],
      "metadata": {
        "id": "qTnNqLqj_BB8",
        "outputId": "b9281583-2492-4c3e-f332-5c5a7c458063",
        "colab": {
          "base_uri": "https://localhost:8080/"
        }
      },
      "execution_count": 12,
      "outputs": [
        {
          "output_type": "stream",
          "name": "stdout",
          "text": [
            "1073741824\n",
            "1\n"
          ]
        }
      ]
    },
    {
      "cell_type": "markdown",
      "source": [
        "Now look up what the flags mean: https://jwst-reffiles.stsci.edu/source/data_quality.html\n",
        "\n",
        "Check out a few of these bad pixel flags to get an idea of why they have been flagged."
      ],
      "metadata": {
        "id": "XGwLqiZ6_hP0"
      }
    },
    {
      "cell_type": "markdown",
      "source": [
        "We have to correct these bad pixels otherwise we will not be able to construct a stellar spectrum for each integration which is the goal of stage 2."
      ],
      "metadata": {
        "id": "NvLQ2wz9ANCl"
      }
    },
    {
      "cell_type": "markdown",
      "source": [
        "----\n",
        "\n",
        "We will now start stage 2.  We must create two custom steps.  These are another background subtraction step (but now implemented at the integration ramp level, not group level) and a bad pixel identification step, to find yet more bad pixels..."
      ],
      "metadata": {
        "id": "OIIWh0hjAcqM"
      }
    },
    {
      "cell_type": "code",
      "execution_count": 13,
      "metadata": {
        "id": "7WAxO9_RZArY"
      },
      "outputs": [],
      "source": [
        "class CustomBkgStage2_prism(Step):\n",
        "     \n",
        "    class_alias = \"custom_bkg\"\n",
        "    spec = \"\"\" \"\"\"\n",
        "    def process(self, input):\n",
        "        with datamodels.CubeModel(input) as input_model:      \n",
        "            result = self.custom_bkg_subtraction(input_model)\n",
        "            input_model.close()\n",
        "            result.meta.cal_step.custom_bkg = 'COMPLETE'\n",
        "        return result\n",
        "    \n",
        "    def custom_bkg_subtraction(self, input_model):\n",
        "        bm = input_model\n",
        "        data = bm.data\n",
        "        sup_img = np.nanmedian(data,axis=0)\n",
        "        y_profile = np.sum(sup_img, axis=1)\n",
        "        y_max = np.argmax(y_profile)\n",
        " \n",
        "        mask = np.ones_like(sup_img)\n",
        "        bbox=10\n",
        "        mask[y_max-bbox: y_max+bbox+1] = np.nan\n",
        "        sup_img_masked = (mask*sup_img)\n",
        "\n",
        "        for intg in range(data.shape[0]):\n",
        "            img = data[intg]\n",
        "            bkg= img*1\n",
        "            bkg = np.vstack((bkg[0:6], bkg[-6:]))\n",
        "            bkg_std = np.nanstd(bkg,axis=0)\n",
        "            bkg_std = np.tile(bkg_std, (bkg.shape[0], 1))\n",
        "            bkg_mean = np.nanmean(bkg, axis=0)\n",
        "            bkg_mean = np.tile(bkg_mean, (bkg.shape[0], 1))\n",
        "            alpha = 3\n",
        "            bkg = np.where(bkg> bkg_mean + bkg_std*alpha, np.nan, bkg) \n",
        "            bkg = np.where(bkg< bkg_mean - bkg_std*alpha, np.nan, bkg) \n",
        "            bkg = np.nanmean(bkg, axis =0)\n",
        "            img_masked = img*mask\n",
        "            bkg_median = np.nanmedian(img_masked, axis=0)\n",
        "            img = img - bkg_median\n",
        "            data[intg] = img\n",
        "        bm.data = data   \n",
        "        return bm\n"
      ]
    },
    {
      "cell_type": "code",
      "execution_count": 14,
      "metadata": {
        "id": "aVxNapBQZc9J"
      },
      "outputs": [],
      "source": [
        "class CustomBadPixelIdentifier(Step):\n",
        "     \n",
        "    class_alias = \"custom_bad_pixel\"\n",
        "\n",
        "    spec = \"\"\" \"\"\"\n",
        "    # reference_file_types = ['superbias']\n",
        "\n",
        "    def process(self, input):\n",
        "\n",
        "        # Open the input data model\n",
        "        with datamodels.CubeModel(input) as input_model:      \n",
        "            result = self.custom_bad_pixel_identifier(input_model)\n",
        "            input_model.close()\n",
        "            result.meta.cal_step.custom_bad_pixel_identifier = 'COMPLETE'\n",
        "        return result\n",
        "    \n",
        "    def custom_bad_pixel_identifier(self, input_model):\n",
        "        \n",
        "        sci = input_model.data\n",
        "        dq_ = input_model.dq\n",
        "        # exclude pure saturation flags  and jumps from DQ\n",
        "        # dq_ =  np.where(dq_==2, 0, dq_)\n",
        "        dq_ = np.where(dq_ & 2 > 0, dq_ -2, dq_)\n",
        "        dq_ = np.where(dq_ & 4 > 0, dq_-4, dq_)\n",
        " \n",
        "        bad_flag = np.where(dq_==0,1,np.nan)\n",
        "        sci *= bad_flag  # bad flag applies nans to bad pixel locations\n",
        "        #plt.figure(34)\n",
        "        #plt.imshow(sci[0], interpolation='None')\n",
        "        \n",
        "        for intg in range(sci.shape[0]):\n",
        "            \n",
        "            print ('bad pixel flagging for image %s.....'%(intg))\n",
        "            img = sci[intg]\n",
        "            dq = dq_[intg]\n",
        "            '''\n",
        "             find outliers in the image, based on rolling line median, line sigma and rolling local line sigma\n",
        "            '''\n",
        "            alpha =  5 #sigma clip level\n",
        "            iter = 1 # number of iterations\n",
        "            \n",
        "            for ii in range(iter):\n",
        "                bbox = 5 # rolling median of 5 pixels centred on the column i\n",
        "                local_median = np.zeros((img.shape[0], img.shape[1]))\n",
        "                local_std = np.zeros((img.shape[0], img.shape[1]))     \n",
        "                for i in range(bbox, img.shape[1]- bbox):\n",
        "                    slice = img[:,i-bbox:i+bbox+1]\n",
        "                    slice = np.delete(slice, bbox, 1) \n",
        "                    local_median[:,i] = np.nanmedian(slice, axis=1)\n",
        "                    local_std[:,i] = np.nanstd(slice, axis=1)\n",
        "                # fill edge values with closest column values\n",
        "                local_median[:,0:bbox] = np.tile(local_median[:,bbox],(bbox, 1)).T\n",
        "                local_median[:,-bbox:None] = np.tile(local_median[:,-bbox-1],(bbox, 1)).T      \n",
        "                local_std[:,0:bbox] = np.tile(local_std[:,bbox],(bbox, 1)).T\n",
        "                local_std[:,-bbox:None] = np.tile(local_std[:,-bbox-1],(bbox, 1)).T        \n",
        "                # find a line sigma based on the 16-84 pc range    \n",
        "                line_pc16 = np.nanpercentile(img,16, axis=1) #  \n",
        "                line_pc84 = np.nanpercentile(img,84, axis=1) #   \n",
        "                line_sigma =    (line_pc84-line_pc16) /2\n",
        "                line_sigma = np.tile(line_sigma, (img.shape[1] , 1)).T\n",
        "                # now clip outliers and replace with nans : based on line sigma\n",
        "                idx = np.argwhere(img > local_median + alpha*line_sigma).T\n",
        "                for j in range(len(idx[0])):\n",
        "                    img[idx[0][j]][idx[1][j]] = np.nan\n",
        "                idx = np.argwhere(img < local_median - alpha*line_sigma).T\n",
        "                for j in range(len(idx[0])):\n",
        "                    img[idx[0][j]][idx[1][j]] = np.nan\n",
        "                # clip again based on the local std\n",
        "                idx = np.argwhere(img > local_median + alpha*local_std).T\n",
        "                for j in range(len(idx[0])):\n",
        "                    img[idx[0][j]][idx[1][j]] = np.nan\n",
        "                idx = np.argwhere(img < local_median -  alpha*local_std).T\n",
        "                for j in range(len(idx[0])):\n",
        "                    img[idx[0][j]][idx[1][j]] = np.nan\n",
        "            sci[intg] = img\n",
        "\n",
        "        input_model.data = sci   \n",
        "        return input_model\n"
      ]
    },
    {
      "cell_type": "markdown",
      "source": [
        "We will first combine all the rateints files from stage 1 into one big file.  This helps when we generate a median image later which we use to find and fill in outliers.  Otherwise the big file will have exactly the same structure as one of the smaller files."
      ],
      "metadata": {
        "id": "kf-gF4UKBOid"
      }
    },
    {
      "cell_type": "code",
      "execution_count": 15,
      "metadata": {
        "id": "gLyJ83uzb1Ie"
      },
      "outputs": [],
      "source": [
        "seg_list = ['001', '002', '003', '004']\n",
        "for seg in seg_list:\n",
        " \n",
        "    rateints_file = '/content/drive/MyDrive/jwst_tutorial_output/WASP-39b_prism_seg_%s_rateints.fits'%(seg)\n",
        "    hdul = hdul = fits.open(rateints_file)\n",
        "    sci = hdul[1].data\n",
        "    err = hdul[2].data\n",
        "    dq = hdul[3].data \n",
        "    int_times = hdul[4].data  \n",
        "    varp = hdul[5].data   \n",
        "    varr = hdul[6].data  \n",
        "    \n",
        "    if seg == seg_list[0]:\n",
        "        sci_stack = sci\n",
        "        err_stack = err\n",
        "        dq_stack = dq\n",
        "        int_times_stack = int_times\n",
        "        varp_stack = varp\n",
        "        varr_stack = varr\n",
        " \n",
        "    else:\n",
        "        sci_stack = np.vstack((sci_stack, sci))\n",
        "        err_stack = np.vstack((err_stack, err))\n",
        "        dq_stack = np.vstack((dq_stack, dq))\n",
        "        varp_stack = np.vstack((varp_stack, varp))\n",
        "        varr_stack = np.vstack((varr_stack, varr))\n",
        "        int_times_stack = np.hstack((int_times_stack, int_times))\n",
        "   \n",
        "    hdul.close()\n",
        "\n",
        "# pick first file as the template \n",
        "# rateints_file = '/Users/user1/Downloads/JWST webinars/NIRSpec_grating/fits_files/%s_%s_run_1_rateints.fits'%(nrs,seg_list[0])\n",
        "hdul = hdul = fits.open(rateints_file)\n",
        "\n",
        "header = hdul[0].header\n",
        "header['EXSEGNUM'] = 1\n",
        "header['EXSEGTOT'] = 1\n",
        "header['INTSTART'] =  1\n",
        "header['INTEND'] = header['NINTS'] # assuming all the files have the same total nints in the header\n",
        "hdul[0].header = header\n",
        "\n",
        "hdul[1].data =  sci_stack\n",
        "hdul[2].data =  err_stack\n",
        "hdul[3].data =  dq_stack\n",
        "hdul[4].data =  int_times_stack\n",
        "hdul[5].data =  varp_stack\n",
        "hdul[6].data =  varr_stack\n",
        " \n",
        "\n",
        "outfile0  = rateints_file\n",
        "outfile0  = outfile0.replace('004', 'COMBINED')\n",
        "# # Write the new HDU structure to outfile\n",
        "hdul.writeto(outfile0, overwrite=True)\n",
        "\n",
        "hdul.close()\n",
        "\n",
        "rateints_file = outfile0\n"
      ]
    },
    {
      "cell_type": "markdown",
      "source": [
        "We will run the first part of stage 2.  We use the official pipeline step 'AssignWCS' to again convert the FITS file data into a datamodel.  The step does not change the science data.\n",
        "\n",
        "Then we implement a second background subtraction step.  \n",
        "\n",
        "And then we perform a bad pixel identification step.  You may wonder why we do this as we have plenty of bad pixels already.  We need to take account of pixel values that may not have triggered a bad flag.  An example might be a cosmic ray hit.  This step just assigns nan values to any outliers.  It doesn't correct the pixels."
      ],
      "metadata": {
        "id": "CcyWosP3BpZd"
      }
    },
    {
      "cell_type": "code",
      "execution_count": 16,
      "metadata": {
        "id": "eLh7k4nKcA21",
        "outputId": "f0097c5a-47b6-4f75-8b06-82857a4aa6b3",
        "colab": {
          "base_uri": "https://localhost:8080/"
        }
      },
      "outputs": [
        {
          "output_type": "stream",
          "name": "stderr",
          "text": [
            "2023-03-10 14:46:23,128 - stpipe.AssignWcsStep - INFO - AssignWcsStep instance created.\n",
            "INFO:stpipe.AssignWcsStep:AssignWcsStep instance created.\n",
            "2023-03-10 14:46:23,405 - stpipe.AssignWcsStep - INFO - Step AssignWcsStep running with args ('/content/drive/MyDrive/jwst_tutorial_output/WASP-39b_prism_seg_COMBINED_rateints.fits',).\n",
            "INFO:stpipe.AssignWcsStep:Step AssignWcsStep running with args ('/content/drive/MyDrive/jwst_tutorial_output/WASP-39b_prism_seg_COMBINED_rateints.fits',).\n",
            "2023-03-10 14:46:23,415 - stpipe.AssignWcsStep - INFO - Step AssignWcsStep parameters are: {'pre_hooks': [], 'post_hooks': [], 'output_file': None, 'output_dir': None, 'output_ext': '.fits', 'output_use_model': False, 'output_use_index': True, 'save_results': False, 'skip': False, 'suffix': None, 'search_output_file': True, 'input_dir': '', 'sip_approx': True, 'sip_max_pix_error': 0.1, 'sip_degree': None, 'sip_max_inv_pix_error': 0.1, 'sip_inv_degree': None, 'sip_npoints': 12, 'slit_y_low': -0.55, 'slit_y_high': 0.55}\n",
            "INFO:stpipe.AssignWcsStep:Step AssignWcsStep parameters are: {'pre_hooks': [], 'post_hooks': [], 'output_file': None, 'output_dir': None, 'output_ext': '.fits', 'output_use_model': False, 'output_use_index': True, 'save_results': False, 'skip': False, 'suffix': None, 'search_output_file': True, 'input_dir': '', 'sip_approx': True, 'sip_max_pix_error': 0.1, 'sip_degree': None, 'sip_max_inv_pix_error': 0.1, 'sip_inv_degree': None, 'sip_npoints': 12, 'slit_y_low': -0.55, 'slit_y_high': 0.55}\n",
            "2023-03-10 14:46:26,593 - CRDS - INFO -  Fetching  /content/JWST_practical/crds_cache/mappings/jwst/jwst_system_datalvl_0002.rmap      694 bytes  (1 / 182 files) (0 / 580.7 K bytes)\n",
            "2023-03-10 14:46:26,915 - CRDS - INFO -  Fetching  /content/JWST_practical/crds_cache/mappings/jwst/jwst_system_calver_0032.rmap    4.0 K bytes  (2 / 182 files) (694 / 580.7 K bytes)\n",
            "2023-03-10 14:46:27,236 - CRDS - INFO -  Fetching  /content/JWST_practical/crds_cache/mappings/jwst/jwst_system_0031.imap      385 bytes  (3 / 182 files) (4.7 K / 580.7 K bytes)\n",
            "2023-03-10 14:46:27,550 - CRDS - INFO -  Fetching  /content/JWST_practical/crds_cache/mappings/jwst/jwst_nirspec_wavelengthrange_0020.rmap    1.5 K bytes  (4 / 182 files) (5.0 K / 580.7 K bytes)\n",
            "2023-03-10 14:46:27,855 - CRDS - INFO -  Fetching  /content/JWST_practical/crds_cache/mappings/jwst/jwst_nirspec_wavecorr_0005.rmap      884 bytes  (5 / 182 files) (6.5 K / 580.7 K bytes)\n",
            "2023-03-10 14:46:28,160 - CRDS - INFO -  Fetching  /content/JWST_practical/crds_cache/mappings/jwst/jwst_nirspec_superbias_0062.rmap   29.9 K bytes  (6 / 182 files) (7.4 K / 580.7 K bytes)\n",
            "2023-03-10 14:46:28,536 - CRDS - INFO -  Fetching  /content/JWST_practical/crds_cache/mappings/jwst/jwst_nirspec_sflat_0023.rmap   20.6 K bytes  (7 / 182 files) (37.3 K / 580.7 K bytes)\n",
            "2023-03-10 14:46:28,913 - CRDS - INFO -  Fetching  /content/JWST_practical/crds_cache/mappings/jwst/jwst_nirspec_saturation_0018.rmap    2.0 K bytes  (8 / 182 files) (57.9 K / 580.7 K bytes)\n",
            "2023-03-10 14:46:29,214 - CRDS - INFO -  Fetching  /content/JWST_practical/crds_cache/mappings/jwst/jwst_nirspec_refpix_0015.rmap    1.6 K bytes  (9 / 182 files) (59.9 K / 580.7 K bytes)\n",
            "2023-03-10 14:46:29,518 - CRDS - INFO -  Fetching  /content/JWST_practical/crds_cache/mappings/jwst/jwst_nirspec_readnoise_0025.rmap    2.6 K bytes  (10 / 182 files) (61.5 K / 580.7 K bytes)\n",
            "2023-03-10 14:46:29,823 - CRDS - INFO -  Fetching  /content/JWST_practical/crds_cache/mappings/jwst/jwst_nirspec_photom_0013.rmap      958 bytes  (11 / 182 files) (64.1 K / 580.7 K bytes)\n",
            "2023-03-10 14:46:30,127 - CRDS - INFO -  Fetching  /content/JWST_practical/crds_cache/mappings/jwst/jwst_nirspec_pathloss_0004.rmap      983 bytes  (12 / 182 files) (65.0 K / 580.7 K bytes)\n",
            "2023-03-10 14:46:30,439 - CRDS - INFO -  Fetching  /content/JWST_practical/crds_cache/mappings/jwst/jwst_nirspec_pars-whitelightstep_0001.rmap      777 bytes  (13 / 182 files) (66.0 K / 580.7 K bytes)\n",
            "2023-03-10 14:46:30,740 - CRDS - INFO -  Fetching  /content/JWST_practical/crds_cache/mappings/jwst/jwst_nirspec_pars-spec2pipeline_0013.rmap    2.1 K bytes  (14 / 182 files) (66.8 K / 580.7 K bytes)\n",
            "2023-03-10 14:46:31,045 - CRDS - INFO -  Fetching  /content/JWST_practical/crds_cache/mappings/jwst/jwst_nirspec_pars-jumpstep_0001.rmap      710 bytes  (15 / 182 files) (68.9 K / 580.7 K bytes)\n",
            "2023-03-10 14:46:31,349 - CRDS - INFO -  Fetching  /content/JWST_practical/crds_cache/mappings/jwst/jwst_nirspec_pars-image2pipeline_0008.rmap    1.0 K bytes  (16 / 182 files) (69.6 K / 580.7 K bytes)\n",
            "2023-03-10 14:46:31,654 - CRDS - INFO -  Fetching  /content/JWST_practical/crds_cache/mappings/jwst/jwst_nirspec_pars-detector1pipeline_0003.rmap    1.1 K bytes  (17 / 182 files) (70.6 K / 580.7 K bytes)\n",
            "2023-03-10 14:46:31,963 - CRDS - INFO -  Fetching  /content/JWST_practical/crds_cache/mappings/jwst/jwst_nirspec_pars-darkpipeline_0003.rmap      872 bytes  (18 / 182 files) (71.7 K / 580.7 K bytes)\n",
            "2023-03-10 14:46:32,271 - CRDS - INFO -  Fetching  /content/JWST_practical/crds_cache/mappings/jwst/jwst_nirspec_ote_0028.rmap    1.2 K bytes  (19 / 182 files) (72.6 K / 580.7 K bytes)\n",
            "2023-03-10 14:46:32,579 - CRDS - INFO -  Fetching  /content/JWST_practical/crds_cache/mappings/jwst/jwst_nirspec_msaoper_0009.rmap    1.2 K bytes  (20 / 182 files) (73.8 K / 580.7 K bytes)\n",
            "2023-03-10 14:46:32,876 - CRDS - INFO -  Fetching  /content/JWST_practical/crds_cache/mappings/jwst/jwst_nirspec_msa_0025.rmap    1.2 K bytes  (21 / 182 files) (75.0 K / 580.7 K bytes)\n",
            "2023-03-10 14:46:33,178 - CRDS - INFO -  Fetching  /content/JWST_practical/crds_cache/mappings/jwst/jwst_nirspec_mask_0027.rmap    1.9 K bytes  (22 / 182 files) (76.2 K / 580.7 K bytes)\n",
            "2023-03-10 14:46:33,482 - CRDS - INFO -  Fetching  /content/JWST_practical/crds_cache/mappings/jwst/jwst_nirspec_linearity_0017.rmap    1.6 K bytes  (23 / 182 files) (78.1 K / 580.7 K bytes)\n",
            "2023-03-10 14:46:33,788 - CRDS - INFO -  Fetching  /content/JWST_practical/crds_cache/mappings/jwst/jwst_nirspec_ipc_0006.rmap      876 bytes  (24 / 182 files) (79.7 K / 580.7 K bytes)\n",
            "2023-03-10 14:46:34,093 - CRDS - INFO -  Fetching  /content/JWST_practical/crds_cache/mappings/jwst/jwst_nirspec_ifuslicer_0015.rmap    1.5 K bytes  (25 / 182 files) (80.5 K / 580.7 K bytes)\n",
            "2023-03-10 14:46:34,398 - CRDS - INFO -  Fetching  /content/JWST_practical/crds_cache/mappings/jwst/jwst_nirspec_ifupost_0017.rmap    1.4 K bytes  (26 / 182 files) (82.0 K / 580.7 K bytes)\n",
            "2023-03-10 14:46:34,708 - CRDS - INFO -  Fetching  /content/JWST_practical/crds_cache/mappings/jwst/jwst_nirspec_ifufore_0015.rmap    1.4 K bytes  (27 / 182 files) (83.4 K / 580.7 K bytes)\n",
            "2023-03-10 14:46:35,013 - CRDS - INFO -  Fetching  /content/JWST_practical/crds_cache/mappings/jwst/jwst_nirspec_gain_0023.rmap    1.8 K bytes  (28 / 182 files) (84.9 K / 580.7 K bytes)\n",
            "2023-03-10 14:46:35,322 - CRDS - INFO -  Fetching  /content/JWST_practical/crds_cache/mappings/jwst/jwst_nirspec_fpa_0026.rmap    1.2 K bytes  (29 / 182 files) (86.6 K / 580.7 K bytes)\n",
            "2023-03-10 14:46:35,628 - CRDS - INFO -  Fetching  /content/JWST_practical/crds_cache/mappings/jwst/jwst_nirspec_fore_0024.rmap    4.5 K bytes  (30 / 182 files) (87.8 K / 580.7 K bytes)\n",
            "2023-03-10 14:46:35,931 - CRDS - INFO -  Fetching  /content/JWST_practical/crds_cache/mappings/jwst/jwst_nirspec_flat_0015.rmap    3.8 K bytes  (31 / 182 files) (92.4 K / 580.7 K bytes)\n",
            "2023-03-10 14:46:36,237 - CRDS - INFO -  Fetching  /content/JWST_practical/crds_cache/mappings/jwst/jwst_nirspec_fflat_0017.rmap    7.2 K bytes  (32 / 182 files) (96.2 K / 580.7 K bytes)\n",
            "2023-03-10 14:46:36,542 - CRDS - INFO -  Fetching  /content/JWST_practical/crds_cache/mappings/jwst/jwst_nirspec_extract1d_0016.rmap    2.3 K bytes  (33 / 182 files) (103.4 K / 580.7 K bytes)\n",
            "2023-03-10 14:46:36,845 - CRDS - INFO -  Fetching  /content/JWST_practical/crds_cache/mappings/jwst/jwst_nirspec_disperser_0026.rmap    5.1 K bytes  (34 / 182 files) (105.6 K / 580.7 K bytes)\n",
            "2023-03-10 14:46:37,151 - CRDS - INFO -  Fetching  /content/JWST_practical/crds_cache/mappings/jwst/jwst_nirspec_dflat_0007.rmap    1.1 K bytes  (35 / 182 files) (110.8 K / 580.7 K bytes)\n",
            "2023-03-10 14:46:37,457 - CRDS - INFO -  Fetching  /content/JWST_practical/crds_cache/mappings/jwst/jwst_nirspec_dark_0051.rmap   28.5 K bytes  (36 / 182 files) (111.9 K / 580.7 K bytes)\n",
            "2023-03-10 14:46:37,831 - CRDS - INFO -  Fetching  /content/JWST_practical/crds_cache/mappings/jwst/jwst_nirspec_cubepar_0011.rmap      966 bytes  (37 / 182 files) (140.4 K / 580.7 K bytes)\n",
            "2023-03-10 14:46:38,138 - CRDS - INFO -  Fetching  /content/JWST_practical/crds_cache/mappings/jwst/jwst_nirspec_collimator_0024.rmap    1.3 K bytes  (38 / 182 files) (141.3 K / 580.7 K bytes)\n",
            "2023-03-10 14:46:38,460 - CRDS - INFO -  Fetching  /content/JWST_practical/crds_cache/mappings/jwst/jwst_nirspec_camera_0024.rmap    1.2 K bytes  (39 / 182 files) (142.6 K / 580.7 K bytes)\n",
            "2023-03-10 14:46:38,768 - CRDS - INFO -  Fetching  /content/JWST_practical/crds_cache/mappings/jwst/jwst_nirspec_barshadow_0004.rmap      928 bytes  (40 / 182 files) (143.8 K / 580.7 K bytes)\n",
            "2023-03-10 14:46:39,074 - CRDS - INFO -  Fetching  /content/JWST_practical/crds_cache/mappings/jwst/jwst_nirspec_area_0018.rmap    6.3 K bytes  (41 / 182 files) (144.7 K / 580.7 K bytes)\n",
            "2023-03-10 14:46:39,382 - CRDS - INFO -  Fetching  /content/JWST_practical/crds_cache/mappings/jwst/jwst_nirspec_apcorr_0009.rmap    5.6 K bytes  (42 / 182 files) (151.0 K / 580.7 K bytes)\n",
            "2023-03-10 14:46:39,687 - CRDS - INFO -  Fetching  /content/JWST_practical/crds_cache/mappings/jwst/jwst_nirspec_0317.imap    5.2 K bytes  (43 / 182 files) (156.6 K / 580.7 K bytes)\n",
            "2023-03-10 14:46:39,989 - CRDS - INFO -  Fetching  /content/JWST_practical/crds_cache/mappings/jwst/jwst_niriss_wfssbkg_0007.rmap    3.1 K bytes  (44 / 182 files) (161.7 K / 580.7 K bytes)\n",
            "2023-03-10 14:46:40,287 - CRDS - INFO -  Fetching  /content/JWST_practical/crds_cache/mappings/jwst/jwst_niriss_wavemap_0008.rmap    2.2 K bytes  (45 / 182 files) (164.8 K / 580.7 K bytes)\n",
            "2023-03-10 14:46:40,590 - CRDS - INFO -  Fetching  /content/JWST_practical/crds_cache/mappings/jwst/jwst_niriss_wavelengthrange_0006.rmap      862 bytes  (46 / 182 files) (167.1 K / 580.7 K bytes)\n",
            "2023-03-10 14:46:40,894 - CRDS - INFO -  Fetching  /content/JWST_practical/crds_cache/mappings/jwst/jwst_niriss_trappars_0004.rmap      753 bytes  (47 / 182 files) (167.9 K / 580.7 K bytes)\n",
            "2023-03-10 14:46:41,238 - CRDS - INFO -  Fetching  /content/JWST_practical/crds_cache/mappings/jwst/jwst_niriss_trapdensity_0004.rmap      774 bytes  (48 / 182 files) (168.7 K / 580.7 K bytes)\n",
            "2023-03-10 14:46:41,537 - CRDS - INFO -  Fetching  /content/JWST_practical/crds_cache/mappings/jwst/jwst_niriss_throughput_0004.rmap      979 bytes  (49 / 182 files) (169.4 K / 580.7 K bytes)\n",
            "2023-03-10 14:46:41,844 - CRDS - INFO -  Fetching  /content/JWST_practical/crds_cache/mappings/jwst/jwst_niriss_superbias_0025.rmap    7.2 K bytes  (50 / 182 files) (170.4 K / 580.7 K bytes)\n",
            "2023-03-10 14:46:42,146 - CRDS - INFO -  Fetching  /content/JWST_practical/crds_cache/mappings/jwst/jwst_niriss_specwcs_0010.rmap    3.1 K bytes  (51 / 182 files) (177.7 K / 580.7 K bytes)\n",
            "2023-03-10 14:46:42,454 - CRDS - INFO -  Fetching  /content/JWST_practical/crds_cache/mappings/jwst/jwst_niriss_spectrace_0008.rmap    2.3 K bytes  (52 / 182 files) (180.8 K / 580.7 K bytes)\n",
            "2023-03-10 14:46:42,762 - CRDS - INFO -  Fetching  /content/JWST_practical/crds_cache/mappings/jwst/jwst_niriss_specprofile_0008.rmap    2.4 K bytes  (53 / 182 files) (183.1 K / 580.7 K bytes)\n",
            "2023-03-10 14:46:43,068 - CRDS - INFO -  Fetching  /content/JWST_practical/crds_cache/mappings/jwst/jwst_niriss_speckernel_0006.rmap    1.0 K bytes  (54 / 182 files) (185.5 K / 580.7 K bytes)\n",
            "2023-03-10 14:46:43,385 - CRDS - INFO -  Fetching  /content/JWST_practical/crds_cache/mappings/jwst/jwst_niriss_saturation_0014.rmap      761 bytes  (55 / 182 files) (186.5 K / 580.7 K bytes)\n",
            "2023-03-10 14:46:43,685 - CRDS - INFO -  Fetching  /content/JWST_practical/crds_cache/mappings/jwst/jwst_niriss_readnoise_0011.rmap      987 bytes  (56 / 182 files) (187.3 K / 580.7 K bytes)\n",
            "2023-03-10 14:46:43,995 - CRDS - INFO -  Fetching  /content/JWST_practical/crds_cache/mappings/jwst/jwst_niriss_photom_0031.rmap    1.2 K bytes  (57 / 182 files) (188.3 K / 580.7 K bytes)\n",
            "2023-03-10 14:46:44,311 - CRDS - INFO -  Fetching  /content/JWST_practical/crds_cache/mappings/jwst/jwst_niriss_persat_0006.rmap      738 bytes  (58 / 182 files) (189.5 K / 580.7 K bytes)\n",
            "2023-03-10 14:46:44,614 - CRDS - INFO -  Fetching  /content/JWST_practical/crds_cache/mappings/jwst/jwst_niriss_pathloss_0003.rmap      758 bytes  (59 / 182 files) (190.2 K / 580.7 K bytes)\n",
            "2023-03-10 14:46:44,917 - CRDS - INFO -  Fetching  /content/JWST_practical/crds_cache/mappings/jwst/jwst_niriss_pars-tweakregstep_0005.rmap    3.1 K bytes  (60 / 182 files) (191.0 K / 580.7 K bytes)\n",
            "2023-03-10 14:46:45,240 - CRDS - INFO -  Fetching  /content/JWST_practical/crds_cache/mappings/jwst/jwst_niriss_pars-spec2pipeline_0008.rmap      984 bytes  (61 / 182 files) (194.1 K / 580.7 K bytes)\n",
            "2023-03-10 14:46:45,542 - CRDS - INFO -  Fetching  /content/JWST_practical/crds_cache/mappings/jwst/jwst_niriss_pars-sourcecatalogstep_0001.rmap      668 bytes  (62 / 182 files) (195.1 K / 580.7 K bytes)\n",
            "2023-03-10 14:46:45,848 - CRDS - INFO -  Fetching  /content/JWST_practical/crds_cache/mappings/jwst/jwst_niriss_pars-outlierdetectionstep_0004.rmap    2.7 K bytes  (63 / 182 files) (195.8 K / 580.7 K bytes)\n",
            "2023-03-10 14:46:46,155 - CRDS - INFO -  Fetching  /content/JWST_practical/crds_cache/mappings/jwst/jwst_niriss_pars-jumpstep_0003.rmap    4.5 K bytes  (64 / 182 files) (198.4 K / 580.7 K bytes)\n",
            "2023-03-10 14:46:46,457 - CRDS - INFO -  Fetching  /content/JWST_practical/crds_cache/mappings/jwst/jwst_niriss_pars-image2pipeline_0005.rmap    1.0 K bytes  (65 / 182 files) (202.9 K / 580.7 K bytes)\n",
            "2023-03-10 14:46:46,759 - CRDS - INFO -  Fetching  /content/JWST_practical/crds_cache/mappings/jwst/jwst_niriss_pars-detector1pipeline_0002.rmap    1.0 K bytes  (66 / 182 files) (203.9 K / 580.7 K bytes)\n",
            "2023-03-10 14:46:47,056 - CRDS - INFO -  Fetching  /content/JWST_practical/crds_cache/mappings/jwst/jwst_niriss_pars-darkpipeline_0002.rmap      868 bytes  (67 / 182 files) (205.0 K / 580.7 K bytes)\n",
            "2023-03-10 14:46:47,364 - CRDS - INFO -  Fetching  /content/JWST_practical/crds_cache/mappings/jwst/jwst_niriss_mask_0020.rmap      859 bytes  (68 / 182 files) (205.8 K / 580.7 K bytes)\n",
            "2023-03-10 14:46:47,670 - CRDS - INFO -  Fetching  /content/JWST_practical/crds_cache/mappings/jwst/jwst_niriss_linearity_0021.rmap      894 bytes  (69 / 182 files) (206.7 K / 580.7 K bytes)\n",
            "2023-03-10 14:46:47,972 - CRDS - INFO -  Fetching  /content/JWST_practical/crds_cache/mappings/jwst/jwst_niriss_ipc_0007.rmap      651 bytes  (70 / 182 files) (207.6 K / 580.7 K bytes)\n",
            "2023-03-10 14:46:48,276 - CRDS - INFO -  Fetching  /content/JWST_practical/crds_cache/mappings/jwst/jwst_niriss_gain_0011.rmap      797 bytes  (71 / 182 files) (208.2 K / 580.7 K bytes)\n",
            "2023-03-10 14:46:48,589 - CRDS - INFO -  Fetching  /content/JWST_practical/crds_cache/mappings/jwst/jwst_niriss_flat_0023.rmap    5.9 K bytes  (72 / 182 files) (209.0 K / 580.7 K bytes)\n",
            "2023-03-10 14:46:48,893 - CRDS - INFO -  Fetching  /content/JWST_practical/crds_cache/mappings/jwst/jwst_niriss_filteroffset_0007.rmap      844 bytes  (73 / 182 files) (214.9 K / 580.7 K bytes)\n",
            "2023-03-10 14:46:49,197 - CRDS - INFO -  Fetching  /content/JWST_practical/crds_cache/mappings/jwst/jwst_niriss_extract1d_0007.rmap      905 bytes  (74 / 182 files) (215.7 K / 580.7 K bytes)\n",
            "2023-03-10 14:46:49,502 - CRDS - INFO -  Fetching  /content/JWST_practical/crds_cache/mappings/jwst/jwst_niriss_drizpars_0004.rmap      519 bytes  (75 / 182 files) (216.6 K / 580.7 K bytes)\n",
            "2023-03-10 14:46:49,807 - CRDS - INFO -  Fetching  /content/JWST_practical/crds_cache/mappings/jwst/jwst_niriss_distortion_0023.rmap    3.4 K bytes  (76 / 182 files) (217.2 K / 580.7 K bytes)\n",
            "2023-03-10 14:46:50,108 - CRDS - INFO -  Fetching  /content/JWST_practical/crds_cache/mappings/jwst/jwst_niriss_dark_0031.rmap    6.8 K bytes  (77 / 182 files) (220.6 K / 580.7 K bytes)\n",
            "2023-03-10 14:46:50,407 - CRDS - INFO -  Fetching  /content/JWST_practical/crds_cache/mappings/jwst/jwst_niriss_area_0014.rmap    2.7 K bytes  (78 / 182 files) (227.4 K / 580.7 K bytes)\n",
            "2023-03-10 14:46:50,712 - CRDS - INFO -  Fetching  /content/JWST_practical/crds_cache/mappings/jwst/jwst_niriss_apcorr_0006.rmap    4.3 K bytes  (79 / 182 files) (230.1 K / 580.7 K bytes)\n",
            "2023-03-10 14:46:51,018 - CRDS - INFO -  Fetching  /content/JWST_practical/crds_cache/mappings/jwst/jwst_niriss_abvegaoffset_0004.rmap    1.4 K bytes  (80 / 182 files) (234.4 K / 580.7 K bytes)\n",
            "2023-03-10 14:46:51,325 - CRDS - INFO -  Fetching  /content/JWST_practical/crds_cache/mappings/jwst/jwst_niriss_0213.imap    5.2 K bytes  (81 / 182 files) (235.8 K / 580.7 K bytes)\n",
            "2023-03-10 14:46:51,629 - CRDS - INFO -  Fetching  /content/JWST_practical/crds_cache/mappings/jwst/jwst_nircam_wfssbkg_0004.rmap    7.2 K bytes  (82 / 182 files) (240.9 K / 580.7 K bytes)\n",
            "2023-03-10 14:46:51,937 - CRDS - INFO -  Fetching  /content/JWST_practical/crds_cache/mappings/jwst/jwst_nircam_wavelengthrange_0010.rmap      996 bytes  (83 / 182 files) (248.1 K / 580.7 K bytes)\n",
            "2023-03-10 14:46:52,244 - CRDS - INFO -  Fetching  /content/JWST_practical/crds_cache/mappings/jwst/jwst_nircam_tsophot_0003.rmap      896 bytes  (84 / 182 files) (249.1 K / 580.7 K bytes)\n",
            "2023-03-10 14:46:52,552 - CRDS - INFO -  Fetching  /content/JWST_practical/crds_cache/mappings/jwst/jwst_nircam_trappars_0003.rmap    1.6 K bytes  (85 / 182 files) (250.0 K / 580.7 K bytes)\n",
            "2023-03-10 14:46:52,859 - CRDS - INFO -  Fetching  /content/JWST_practical/crds_cache/mappings/jwst/jwst_nircam_trapdensity_0003.rmap    1.6 K bytes  (86 / 182 files) (251.6 K / 580.7 K bytes)\n",
            "2023-03-10 14:46:53,162 - CRDS - INFO -  Fetching  /content/JWST_practical/crds_cache/mappings/jwst/jwst_nircam_superbias_0014.rmap   11.9 K bytes  (87 / 182 files) (253.2 K / 580.7 K bytes)\n",
            "2023-03-10 14:46:53,464 - CRDS - INFO -  Fetching  /content/JWST_practical/crds_cache/mappings/jwst/jwst_nircam_specwcs_0018.rmap    7.1 K bytes  (88 / 182 files) (265.1 K / 580.7 K bytes)\n",
            "2023-03-10 14:46:53,773 - CRDS - INFO -  Fetching  /content/JWST_practical/crds_cache/mappings/jwst/jwst_nircam_saturation_0010.rmap    2.2 K bytes  (89 / 182 files) (272.3 K / 580.7 K bytes)\n",
            "2023-03-10 14:46:54,075 - CRDS - INFO -  Fetching  /content/JWST_practical/crds_cache/mappings/jwst/jwst_nircam_readnoise_0021.rmap   19.1 K bytes  (90 / 182 files) (274.4 K / 580.7 K bytes)\n",
            "2023-03-10 14:46:54,456 - CRDS - INFO -  Fetching  /content/JWST_practical/crds_cache/mappings/jwst/jwst_nircam_psfmask_0007.rmap   11.0 K bytes  (91 / 182 files) (293.5 K / 580.7 K bytes)\n",
            "2023-03-10 14:46:54,768 - CRDS - INFO -  Fetching  /content/JWST_practical/crds_cache/mappings/jwst/jwst_nircam_photom_0015.rmap    3.4 K bytes  (92 / 182 files) (304.6 K / 580.7 K bytes)\n",
            "2023-03-10 14:46:55,069 - CRDS - INFO -  Fetching  /content/JWST_practical/crds_cache/mappings/jwst/jwst_nircam_persat_0005.rmap    1.6 K bytes  (93 / 182 files) (307.9 K / 580.7 K bytes)\n",
            "2023-03-10 14:46:55,338 - CRDS - INFO -  Fetching  /content/JWST_practical/crds_cache/mappings/jwst/jwst_nircam_pars-whitelightstep_0003.rmap    1.5 K bytes  (94 / 182 files) (309.5 K / 580.7 K bytes)\n",
            "2023-03-10 14:46:55,574 - CRDS - INFO -  Fetching  /content/JWST_practical/crds_cache/mappings/jwst/jwst_nircam_pars-tweakregstep_0003.rmap    4.5 K bytes  (95 / 182 files) (311.0 K / 580.7 K bytes)\n",
            "2023-03-10 14:46:55,807 - CRDS - INFO -  Fetching  /content/JWST_practical/crds_cache/mappings/jwst/jwst_nircam_pars-spec2pipeline_0008.rmap      984 bytes  (96 / 182 files) (315.4 K / 580.7 K bytes)\n",
            "2023-03-10 14:46:56,044 - CRDS - INFO -  Fetching  /content/JWST_practical/crds_cache/mappings/jwst/jwst_nircam_pars-sourcecatalogstep_0001.rmap      668 bytes  (97 / 182 files) (316.4 K / 580.7 K bytes)\n",
            "2023-03-10 14:46:56,277 - CRDS - INFO -  Fetching  /content/JWST_practical/crds_cache/mappings/jwst/jwst_nircam_pars-outlierdetectionstep_0003.rmap      940 bytes  (98 / 182 files) (317.1 K / 580.7 K bytes)\n",
            "2023-03-10 14:46:56,510 - CRDS - INFO -  Fetching  /content/JWST_practical/crds_cache/mappings/jwst/jwst_nircam_pars-jumpstep_0001.rmap      707 bytes  (99 / 182 files) (318.0 K / 580.7 K bytes)\n",
            "2023-03-10 14:46:56,743 - CRDS - INFO -  Fetching  /content/JWST_practical/crds_cache/mappings/jwst/jwst_nircam_pars-image2pipeline_0003.rmap    1.0 K bytes  (100 / 182 files) (318.7 K / 580.7 K bytes)\n",
            "2023-03-10 14:46:56,977 - CRDS - INFO -  Fetching  /content/JWST_practical/crds_cache/mappings/jwst/jwst_nircam_pars-detector1pipeline_0002.rmap    1.0 K bytes  (101 / 182 files) (319.7 K / 580.7 K bytes)\n",
            "2023-03-10 14:46:57,207 - CRDS - INFO -  Fetching  /content/JWST_practical/crds_cache/mappings/jwst/jwst_nircam_pars-darkpipeline_0002.rmap      868 bytes  (102 / 182 files) (320.8 K / 580.7 K bytes)\n",
            "2023-03-10 14:46:57,438 - CRDS - INFO -  Fetching  /content/JWST_practical/crds_cache/mappings/jwst/jwst_nircam_mask_0010.rmap    2.9 K bytes  (103 / 182 files) (321.7 K / 580.7 K bytes)\n",
            "2023-03-10 14:46:57,673 - CRDS - INFO -  Fetching  /content/JWST_practical/crds_cache/mappings/jwst/jwst_nircam_linearity_0011.rmap    2.4 K bytes  (104 / 182 files) (324.5 K / 580.7 K bytes)\n",
            "2023-03-10 14:46:57,901 - CRDS - INFO -  Fetching  /content/JWST_practical/crds_cache/mappings/jwst/jwst_nircam_ipc_0003.rmap    2.0 K bytes  (105 / 182 files) (326.9 K / 580.7 K bytes)\n",
            "2023-03-10 14:46:58,128 - CRDS - INFO -  Fetching  /content/JWST_practical/crds_cache/mappings/jwst/jwst_nircam_gain_0016.rmap    2.1 K bytes  (106 / 182 files) (328.9 K / 580.7 K bytes)\n",
            "2023-03-10 14:46:58,358 - CRDS - INFO -  Fetching  /content/JWST_practical/crds_cache/mappings/jwst/jwst_nircam_flat_0023.rmap   51.6 K bytes  (107 / 182 files) (331.1 K / 580.7 K bytes)\n",
            "2023-03-10 14:46:58,733 - CRDS - INFO -  Fetching  /content/JWST_practical/crds_cache/mappings/jwst/jwst_nircam_filteroffset_0004.rmap    1.4 K bytes  (108 / 182 files) (382.6 K / 580.7 K bytes)\n",
            "2023-03-10 14:46:58,969 - CRDS - INFO -  Fetching  /content/JWST_practical/crds_cache/mappings/jwst/jwst_nircam_extract1d_0004.rmap      842 bytes  (109 / 182 files) (384.1 K / 580.7 K bytes)\n",
            "2023-03-10 14:46:59,201 - CRDS - INFO -  Fetching  /content/JWST_practical/crds_cache/mappings/jwst/jwst_nircam_drizpars_0001.rmap      519 bytes  (110 / 182 files) (384.9 K / 580.7 K bytes)\n",
            "2023-03-10 14:46:59,433 - CRDS - INFO -  Fetching  /content/JWST_practical/crds_cache/mappings/jwst/jwst_nircam_distortion_0031.rmap   23.7 K bytes  (111 / 182 files) (385.4 K / 580.7 K bytes)\n",
            "2023-03-10 14:46:59,730 - CRDS - INFO -  Fetching  /content/JWST_practical/crds_cache/mappings/jwst/jwst_nircam_dark_0042.rmap   22.9 K bytes  (112 / 182 files) (409.1 K / 580.7 K bytes)\n",
            "2023-03-10 14:47:00,041 - CRDS - INFO -  Fetching  /content/JWST_practical/crds_cache/mappings/jwst/jwst_nircam_area_0007.rmap    4.6 K bytes  (113 / 182 files) (432.0 K / 580.7 K bytes)\n",
            "2023-03-10 14:47:00,270 - CRDS - INFO -  Fetching  /content/JWST_practical/crds_cache/mappings/jwst/jwst_nircam_apcorr_0008.rmap    4.3 K bytes  (114 / 182 files) (436.6 K / 580.7 K bytes)\n",
            "2023-03-10 14:47:00,504 - CRDS - INFO -  Fetching  /content/JWST_practical/crds_cache/mappings/jwst/jwst_nircam_abvegaoffset_0002.rmap    1.3 K bytes  (115 / 182 files) (440.8 K / 580.7 K bytes)\n",
            "2023-03-10 14:47:00,735 - CRDS - INFO -  Fetching  /content/JWST_practical/crds_cache/mappings/jwst/jwst_nircam_0248.imap    5.1 K bytes  (116 / 182 files) (442.1 K / 580.7 K bytes)\n",
            "2023-03-10 14:47:00,969 - CRDS - INFO -  Fetching  /content/JWST_practical/crds_cache/mappings/jwst/jwst_miri_wavelengthrange_0026.rmap      929 bytes  (117 / 182 files) (447.2 K / 580.7 K bytes)\n",
            "2023-03-10 14:47:01,199 - CRDS - INFO -  Fetching  /content/JWST_practical/crds_cache/mappings/jwst/jwst_miri_tsophot_0004.rmap      882 bytes  (118 / 182 files) (448.1 K / 580.7 K bytes)\n",
            "2023-03-10 14:47:01,429 - CRDS - INFO -  Fetching  /content/JWST_practical/crds_cache/mappings/jwst/jwst_miri_straymask_0009.rmap      987 bytes  (119 / 182 files) (449.0 K / 580.7 K bytes)\n",
            "2023-03-10 14:47:01,669 - CRDS - INFO -  Fetching  /content/JWST_practical/crds_cache/mappings/jwst/jwst_miri_specwcs_0034.rmap    5.8 K bytes  (120 / 182 files) (450.0 K / 580.7 K bytes)\n",
            "2023-03-10 14:47:01,903 - CRDS - INFO -  Fetching  /content/JWST_practical/crds_cache/mappings/jwst/jwst_miri_saturation_0015.rmap    1.2 K bytes  (121 / 182 files) (455.8 K / 580.7 K bytes)\n",
            "2023-03-10 14:47:02,132 - CRDS - INFO -  Fetching  /content/JWST_practical/crds_cache/mappings/jwst/jwst_miri_rscd_0008.rmap    1.0 K bytes  (122 / 182 files) (456.9 K / 580.7 K bytes)\n",
            "2023-03-10 14:47:02,364 - CRDS - INFO -  Fetching  /content/JWST_practical/crds_cache/mappings/jwst/jwst_miri_resol_0006.rmap      790 bytes  (123 / 182 files) (458.0 K / 580.7 K bytes)\n",
            "2023-03-10 14:47:02,598 - CRDS - INFO -  Fetching  /content/JWST_practical/crds_cache/mappings/jwst/jwst_miri_reset_0026.rmap    3.9 K bytes  (124 / 182 files) (458.8 K / 580.7 K bytes)\n",
            "2023-03-10 14:47:02,827 - CRDS - INFO -  Fetching  /content/JWST_practical/crds_cache/mappings/jwst/jwst_miri_regions_0032.rmap    5.2 K bytes  (125 / 182 files) (462.6 K / 580.7 K bytes)\n",
            "2023-03-10 14:47:03,058 - CRDS - INFO -  Fetching  /content/JWST_practical/crds_cache/mappings/jwst/jwst_miri_readnoise_0023.rmap    1.6 K bytes  (126 / 182 files) (467.9 K / 580.7 K bytes)\n",
            "2023-03-10 14:47:03,289 - CRDS - INFO -  Fetching  /content/JWST_practical/crds_cache/mappings/jwst/jwst_miri_psfmask_0008.rmap    1.6 K bytes  (127 / 182 files) (469.5 K / 580.7 K bytes)\n",
            "2023-03-10 14:47:03,520 - CRDS - INFO -  Fetching  /content/JWST_practical/crds_cache/mappings/jwst/jwst_miri_photom_0038.rmap    3.9 K bytes  (128 / 182 files) (471.1 K / 580.7 K bytes)\n",
            "2023-03-10 14:47:03,758 - CRDS - INFO -  Fetching  /content/JWST_practical/crds_cache/mappings/jwst/jwst_miri_pathloss_0004.rmap      802 bytes  (129 / 182 files) (475.0 K / 580.7 K bytes)\n",
            "2023-03-10 14:47:03,988 - CRDS - INFO -  Fetching  /content/JWST_practical/crds_cache/mappings/jwst/jwst_miri_pars-whitelightstep_0003.rmap      912 bytes  (130 / 182 files) (475.8 K / 580.7 K bytes)\n",
            "2023-03-10 14:47:04,216 - CRDS - INFO -  Fetching  /content/JWST_practical/crds_cache/mappings/jwst/jwst_miri_pars-tweakregstep_0003.rmap    1.8 K bytes  (131 / 182 files) (476.7 K / 580.7 K bytes)\n",
            "2023-03-10 14:47:04,446 - CRDS - INFO -  Fetching  /content/JWST_practical/crds_cache/mappings/jwst/jwst_miri_pars-spec3pipeline_0004.rmap      816 bytes  (132 / 182 files) (478.5 K / 580.7 K bytes)\n",
            "2023-03-10 14:47:04,671 - CRDS - INFO -  Fetching  /content/JWST_practical/crds_cache/mappings/jwst/jwst_miri_pars-spec2pipeline_0007.rmap    1.1 K bytes  (133 / 182 files) (479.3 K / 580.7 K bytes)\n",
            "2023-03-10 14:47:04,900 - CRDS - INFO -  Fetching  /content/JWST_practical/crds_cache/mappings/jwst/jwst_miri_pars-sourcecatalogstep_0003.rmap    1.9 K bytes  (134 / 182 files) (480.4 K / 580.7 K bytes)\n",
            "2023-03-10 14:47:05,131 - CRDS - INFO -  Fetching  /content/JWST_practical/crds_cache/mappings/jwst/jwst_miri_pars-outlierdetectionstep_0012.rmap    3.4 K bytes  (135 / 182 files) (482.3 K / 580.7 K bytes)\n",
            "2023-03-10 14:47:05,365 - CRDS - INFO -  Fetching  /content/JWST_practical/crds_cache/mappings/jwst/jwst_miri_pars-jumpstep_0001.rmap      701 bytes  (136 / 182 files) (485.7 K / 580.7 K bytes)\n",
            "2023-03-10 14:47:05,595 - CRDS - INFO -  Fetching  /content/JWST_practical/crds_cache/mappings/jwst/jwst_miri_pars-image2pipeline_0006.rmap      979 bytes  (137 / 182 files) (486.4 K / 580.7 K bytes)\n",
            "2023-03-10 14:47:05,824 - CRDS - INFO -  Fetching  /content/JWST_practical/crds_cache/mappings/jwst/jwst_miri_pars-detector1pipeline_0004.rmap    1.1 K bytes  (138 / 182 files) (487.4 K / 580.7 K bytes)\n",
            "2023-03-10 14:47:06,057 - CRDS - INFO -  Fetching  /content/JWST_practical/crds_cache/mappings/jwst/jwst_miri_pars-darkpipeline_0002.rmap      860 bytes  (139 / 182 files) (488.5 K / 580.7 K bytes)\n",
            "2023-03-10 14:47:06,291 - CRDS - INFO -  Fetching  /content/JWST_practical/crds_cache/mappings/jwst/jwst_miri_mrsxartcorr_0002.rmap    2.2 K bytes  (140 / 182 files) (489.4 K / 580.7 K bytes)\n",
            "2023-03-10 14:47:06,524 - CRDS - INFO -  Fetching  /content/JWST_practical/crds_cache/mappings/jwst/jwst_miri_mrsptcorr_0002.rmap    1.9 K bytes  (141 / 182 files) (491.5 K / 580.7 K bytes)\n",
            "2023-03-10 14:47:06,756 - CRDS - INFO -  Fetching  /content/JWST_practical/crds_cache/mappings/jwst/jwst_miri_mask_0020.rmap    1.1 K bytes  (142 / 182 files) (493.4 K / 580.7 K bytes)\n",
            "2023-03-10 14:47:06,991 - CRDS - INFO -  Fetching  /content/JWST_practical/crds_cache/mappings/jwst/jwst_miri_linearity_0017.rmap    2.7 K bytes  (143 / 182 files) (494.5 K / 580.7 K bytes)\n",
            "2023-03-10 14:47:07,227 - CRDS - INFO -  Fetching  /content/JWST_practical/crds_cache/mappings/jwst/jwst_miri_gain_0007.rmap      893 bytes  (144 / 182 files) (497.2 K / 580.7 K bytes)\n",
            "2023-03-10 14:47:07,463 - CRDS - INFO -  Fetching  /content/JWST_practical/crds_cache/mappings/jwst/jwst_miri_fringefreq_0003.rmap    1.4 K bytes  (145 / 182 files) (498.1 K / 580.7 K bytes)\n",
            "2023-03-10 14:47:07,702 - CRDS - INFO -  Fetching  /content/JWST_practical/crds_cache/mappings/jwst/jwst_miri_fringe_0018.rmap    3.7 K bytes  (146 / 182 files) (499.5 K / 580.7 K bytes)\n",
            "2023-03-10 14:47:07,934 - CRDS - INFO -  Fetching  /content/JWST_practical/crds_cache/mappings/jwst/jwst_miri_flat_0061.rmap   15.1 K bytes  (147 / 182 files) (503.3 K / 580.7 K bytes)\n",
            "2023-03-10 14:47:08,237 - CRDS - INFO -  Fetching  /content/JWST_practical/crds_cache/mappings/jwst/jwst_miri_filteroffset_0025.rmap    2.5 K bytes  (148 / 182 files) (518.4 K / 580.7 K bytes)\n",
            "2023-03-10 14:47:08,475 - CRDS - INFO -  Fetching  /content/JWST_practical/crds_cache/mappings/jwst/jwst_miri_extract1d_0017.rmap    1.3 K bytes  (149 / 182 files) (520.9 K / 580.7 K bytes)\n",
            "2023-03-10 14:47:08,714 - CRDS - INFO -  Fetching  /content/JWST_practical/crds_cache/mappings/jwst/jwst_miri_drizpars_0002.rmap      511 bytes  (150 / 182 files) (522.2 K / 580.7 K bytes)\n",
            "2023-03-10 14:47:08,947 - CRDS - INFO -  Fetching  /content/JWST_practical/crds_cache/mappings/jwst/jwst_miri_distortion_0038.rmap    4.9 K bytes  (151 / 182 files) (522.7 K / 580.7 K bytes)\n",
            "2023-03-10 14:47:09,175 - CRDS - INFO -  Fetching  /content/JWST_practical/crds_cache/mappings/jwst/jwst_miri_dark_0033.rmap    4.4 K bytes  (152 / 182 files) (527.6 K / 580.7 K bytes)\n",
            "2023-03-10 14:47:09,410 - CRDS - INFO -  Fetching  /content/JWST_practical/crds_cache/mappings/jwst/jwst_miri_cubepar_0014.rmap      800 bytes  (153 / 182 files) (531.9 K / 580.7 K bytes)\n",
            "2023-03-10 14:47:09,643 - CRDS - INFO -  Fetching  /content/JWST_practical/crds_cache/mappings/jwst/jwst_miri_area_0013.rmap      806 bytes  (154 / 182 files) (532.7 K / 580.7 K bytes)\n",
            "2023-03-10 14:47:09,876 - CRDS - INFO -  Fetching  /content/JWST_practical/crds_cache/mappings/jwst/jwst_miri_apcorr_0009.rmap    4.3 K bytes  (155 / 182 files) (533.6 K / 580.7 K bytes)\n",
            "2023-03-10 14:47:10,109 - CRDS - INFO -  Fetching  /content/JWST_practical/crds_cache/mappings/jwst/jwst_miri_abvegaoffset_0002.rmap    1.3 K bytes  (156 / 182 files) (537.8 K / 580.7 K bytes)\n",
            "2023-03-10 14:47:10,348 - CRDS - INFO -  Fetching  /content/JWST_practical/crds_cache/mappings/jwst/jwst_miri_0333.imap    5.2 K bytes  (157 / 182 files) (539.1 K / 580.7 K bytes)\n",
            "2023-03-10 14:47:10,581 - CRDS - INFO -  Fetching  /content/JWST_practical/crds_cache/mappings/jwst/jwst_fgs_trappars_0004.rmap      903 bytes  (158 / 182 files) (544.3 K / 580.7 K bytes)\n",
            "2023-03-10 14:47:10,814 - CRDS - INFO -  Fetching  /content/JWST_practical/crds_cache/mappings/jwst/jwst_fgs_trapdensity_0006.rmap      930 bytes  (159 / 182 files) (545.2 K / 580.7 K bytes)\n",
            "2023-03-10 14:47:11,052 - CRDS - INFO -  Fetching  /content/JWST_practical/crds_cache/mappings/jwst/jwst_fgs_superbias_0017.rmap    3.8 K bytes  (160 / 182 files) (546.1 K / 580.7 K bytes)\n",
            "2023-03-10 14:47:11,282 - CRDS - INFO -  Fetching  /content/JWST_practical/crds_cache/mappings/jwst/jwst_fgs_saturation_0009.rmap      779 bytes  (161 / 182 files) (549.9 K / 580.7 K bytes)\n",
            "2023-03-10 14:47:11,518 - CRDS - INFO -  Fetching  /content/JWST_practical/crds_cache/mappings/jwst/jwst_fgs_readnoise_0011.rmap    1.3 K bytes  (162 / 182 files) (550.7 K / 580.7 K bytes)\n",
            "2023-03-10 14:47:11,750 - CRDS - INFO -  Fetching  /content/JWST_practical/crds_cache/mappings/jwst/jwst_fgs_photom_0014.rmap    1.1 K bytes  (163 / 182 files) (552.0 K / 580.7 K bytes)\n",
            "2023-03-10 14:47:11,982 - CRDS - INFO -  Fetching  /content/JWST_practical/crds_cache/mappings/jwst/jwst_fgs_persat_0006.rmap      884 bytes  (164 / 182 files) (553.1 K / 580.7 K bytes)\n",
            "2023-03-10 14:47:12,210 - CRDS - INFO -  Fetching  /content/JWST_practical/crds_cache/mappings/jwst/jwst_fgs_pars-tweakregstep_0002.rmap      850 bytes  (165 / 182 files) (554.0 K / 580.7 K bytes)\n",
            "2023-03-10 14:47:12,442 - CRDS - INFO -  Fetching  /content/JWST_practical/crds_cache/mappings/jwst/jwst_fgs_pars-sourcecatalogstep_0001.rmap      636 bytes  (166 / 182 files) (554.8 K / 580.7 K bytes)\n",
            "2023-03-10 14:47:12,671 - CRDS - INFO -  Fetching  /content/JWST_practical/crds_cache/mappings/jwst/jwst_fgs_pars-outlierdetectionstep_0001.rmap      654 bytes  (167 / 182 files) (555.5 K / 580.7 K bytes)\n",
            "2023-03-10 14:47:12,908 - CRDS - INFO -  Fetching  /content/JWST_practical/crds_cache/mappings/jwst/jwst_fgs_pars-image2pipeline_0005.rmap      974 bytes  (168 / 182 files) (556.1 K / 580.7 K bytes)\n",
            "2023-03-10 14:47:13,142 - CRDS - INFO -  Fetching  /content/JWST_practical/crds_cache/mappings/jwst/jwst_fgs_pars-detector1pipeline_0002.rmap    1.0 K bytes  (169 / 182 files) (557.1 K / 580.7 K bytes)\n",
            "2023-03-10 14:47:13,374 - CRDS - INFO -  Fetching  /content/JWST_practical/crds_cache/mappings/jwst/jwst_fgs_pars-darkpipeline_0002.rmap      856 bytes  (170 / 182 files) (558.1 K / 580.7 K bytes)\n",
            "2023-03-10 14:47:13,603 - CRDS - INFO -  Fetching  /content/JWST_practical/crds_cache/mappings/jwst/jwst_fgs_mask_0023.rmap    1.1 K bytes  (171 / 182 files) (559.0 K / 580.7 K bytes)\n",
            "2023-03-10 14:47:13,834 - CRDS - INFO -  Fetching  /content/JWST_practical/crds_cache/mappings/jwst/jwst_fgs_linearity_0015.rmap      925 bytes  (172 / 182 files) (560.0 K / 580.7 K bytes)\n",
            "2023-03-10 14:47:14,061 - CRDS - INFO -  Fetching  /content/JWST_practical/crds_cache/mappings/jwst/jwst_fgs_ipc_0003.rmap      614 bytes  (173 / 182 files) (561.0 K / 580.7 K bytes)\n",
            "2023-03-10 14:47:14,294 - CRDS - INFO -  Fetching  /content/JWST_practical/crds_cache/mappings/jwst/jwst_fgs_gain_0010.rmap      890 bytes  (174 / 182 files) (561.6 K / 580.7 K bytes)\n",
            "2023-03-10 14:47:14,523 - CRDS - INFO -  Fetching  /content/JWST_practical/crds_cache/mappings/jwst/jwst_fgs_flat_0009.rmap    1.1 K bytes  (175 / 182 files) (562.5 K / 580.7 K bytes)\n",
            "2023-03-10 14:47:14,753 - CRDS - INFO -  Fetching  /content/JWST_practical/crds_cache/mappings/jwst/jwst_fgs_distortion_0009.rmap    1.2 K bytes  (176 / 182 files) (563.6 K / 580.7 K bytes)\n",
            "2023-03-10 14:47:14,996 - CRDS - INFO -  Fetching  /content/JWST_practical/crds_cache/mappings/jwst/jwst_fgs_dark_0017.rmap    4.3 K bytes  (177 / 182 files) (564.8 K / 580.7 K bytes)\n",
            "2023-03-10 14:47:15,222 - CRDS - INFO -  Fetching  /content/JWST_practical/crds_cache/mappings/jwst/jwst_fgs_area_0010.rmap    1.2 K bytes  (178 / 182 files) (569.1 K / 580.7 K bytes)\n",
            "2023-03-10 14:47:15,452 - CRDS - INFO -  Fetching  /content/JWST_practical/crds_cache/mappings/jwst/jwst_fgs_apcorr_0004.rmap    4.0 K bytes  (179 / 182 files) (570.3 K / 580.7 K bytes)\n",
            "2023-03-10 14:47:15,683 - CRDS - INFO -  Fetching  /content/JWST_practical/crds_cache/mappings/jwst/jwst_fgs_abvegaoffset_0002.rmap    1.3 K bytes  (180 / 182 files) (574.2 K / 580.7 K bytes)\n",
            "2023-03-10 14:47:15,912 - CRDS - INFO -  Fetching  /content/JWST_practical/crds_cache/mappings/jwst/jwst_fgs_0107.imap    4.6 K bytes  (181 / 182 files) (575.5 K / 580.7 K bytes)\n",
            "2023-03-10 14:47:16,141 - CRDS - INFO -  Fetching  /content/JWST_practical/crds_cache/mappings/jwst/jwst_1063.pmap      580 bytes  (182 / 182 files) (580.1 K / 580.7 K bytes)\n",
            "2023-03-10 14:47:16,840 - CRDS - INFO -  Fetching  /content/JWST_practical/crds_cache/references/jwst/nirspec/jwst_nirspec_wavelengthrange_0006.asdf    3.4 K bytes  (1 / 1 files) (0 / 3.4 K bytes)\n",
            "2023-03-10 14:47:17,094 - CRDS - INFO -  Fetching  /content/JWST_practical/crds_cache/references/jwst/nirspec/jwst_nirspec_camera_0007.asdf    5.8 K bytes  (1 / 1 files) (0 / 5.8 K bytes)\n",
            "2023-03-10 14:47:17,346 - CRDS - INFO -  Fetching  /content/JWST_practical/crds_cache/references/jwst/nirspec/jwst_nirspec_collimator_0007.asdf    5.9 K bytes  (1 / 1 files) (0 / 5.9 K bytes)\n",
            "2023-03-10 14:47:17,599 - CRDS - INFO -  Fetching  /content/JWST_practical/crds_cache/references/jwst/nirspec/jwst_nirspec_disperser_0062.asdf    2.5 K bytes  (1 / 1 files) (0 / 2.5 K bytes)\n",
            "2023-03-10 14:47:17,854 - CRDS - INFO -  Fetching  /content/JWST_practical/crds_cache/references/jwst/nirspec/jwst_nirspec_fore_0049.asdf   12.8 K bytes  (1 / 1 files) (0 / 12.8 K bytes)\n",
            "2023-03-10 14:47:18,164 - CRDS - INFO -  Fetching  /content/JWST_practical/crds_cache/references/jwst/nirspec/jwst_nirspec_fpa_0008.asdf    4.3 K bytes  (1 / 1 files) (0 / 4.3 K bytes)\n",
            "2023-03-10 14:47:18,415 - CRDS - INFO -  Fetching  /content/JWST_practical/crds_cache/references/jwst/nirspec/jwst_nirspec_msa_0008.asdf    5.0 M bytes  (1 / 1 files) (0 / 5.0 M bytes)\n",
            "2023-03-10 14:47:19,240 - CRDS - INFO -  Fetching  /content/JWST_practical/crds_cache/references/jwst/nirspec/jwst_nirspec_ote_0010.asdf    7.6 K bytes  (1 / 1 files) (0 / 7.6 K bytes)\n",
            "DEBUG:jwst.assign_wcs.assign_wcs_step:reference files used in assign_wcs: {'distortion': 'N/A', 'filteroffset': 'N/A', 'specwcs': 'N/A', 'regions': 'N/A', 'wavelengthrange': '/content/JWST_practical/crds_cache/references/jwst/nirspec/jwst_nirspec_wavelengthrange_0006.asdf', 'camera': '/content/JWST_practical/crds_cache/references/jwst/nirspec/jwst_nirspec_camera_0007.asdf', 'collimator': '/content/JWST_practical/crds_cache/references/jwst/nirspec/jwst_nirspec_collimator_0007.asdf', 'disperser': '/content/JWST_practical/crds_cache/references/jwst/nirspec/jwst_nirspec_disperser_0062.asdf', 'fore': '/content/JWST_practical/crds_cache/references/jwst/nirspec/jwst_nirspec_fore_0049.asdf', 'fpa': '/content/JWST_practical/crds_cache/references/jwst/nirspec/jwst_nirspec_fpa_0008.asdf', 'msa': '/content/JWST_practical/crds_cache/references/jwst/nirspec/jwst_nirspec_msa_0008.asdf', 'ote': '/content/JWST_practical/crds_cache/references/jwst/nirspec/jwst_nirspec_ote_0010.asdf', 'ifupost': 'N/A', 'ifufore': 'N/A', 'ifuslicer': 'N/A'}\n",
            "DEBUG:stpipe.AssignWcsStep:reference files used in assign_wcs: {'distortion': 'N/A', 'filteroffset': 'N/A', 'specwcs': 'N/A', 'regions': 'N/A', 'wavelengthrange': '/content/JWST_practical/crds_cache/references/jwst/nirspec/jwst_nirspec_wavelengthrange_0006.asdf', 'camera': '/content/JWST_practical/crds_cache/references/jwst/nirspec/jwst_nirspec_camera_0007.asdf', 'collimator': '/content/JWST_practical/crds_cache/references/jwst/nirspec/jwst_nirspec_collimator_0007.asdf', 'disperser': '/content/JWST_practical/crds_cache/references/jwst/nirspec/jwst_nirspec_disperser_0062.asdf', 'fore': '/content/JWST_practical/crds_cache/references/jwst/nirspec/jwst_nirspec_fore_0049.asdf', 'fpa': '/content/JWST_practical/crds_cache/references/jwst/nirspec/jwst_nirspec_fpa_0008.asdf', 'msa': '/content/JWST_practical/crds_cache/references/jwst/nirspec/jwst_nirspec_msa_0008.asdf', 'ote': '/content/JWST_practical/crds_cache/references/jwst/nirspec/jwst_nirspec_ote_0010.asdf', 'ifupost': 'N/A', 'ifufore': 'N/A', 'ifuslicer': 'N/A'}\n",
            "INFO:jwst.assign_wcs.nirspec:gwa_ytilt is 0.032141870000008 deg\n",
            "2023-03-10 14:47:19,603 - stpipe.AssignWcsStep - INFO - gwa_ytilt is 0.032141870000008 deg\n",
            "INFO:stpipe.AssignWcsStep:gwa_ytilt is 0.032141870000008 deg\n",
            "INFO:jwst.assign_wcs.nirspec:gwa_xtilt is 0.3360183000002388 deg\n",
            "2023-03-10 14:47:19,609 - stpipe.AssignWcsStep - INFO - gwa_xtilt is 0.3360183000002388 deg\n",
            "INFO:stpipe.AssignWcsStep:gwa_xtilt is 0.3360183000002388 deg\n",
            "INFO:jwst.assign_wcs.nirspec:theta_y correction: 0.0044226140118045505 deg\n",
            "2023-03-10 14:47:19,618 - stpipe.AssignWcsStep - INFO - theta_y correction: 0.0044226140118045505 deg\n",
            "INFO:stpipe.AssignWcsStep:theta_y correction: 0.0044226140118045505 deg\n",
            "INFO:jwst.assign_wcs.nirspec:theta_x correction: 0.0004069910586541544 deg\n",
            "2023-03-10 14:47:19,625 - stpipe.AssignWcsStep - INFO - theta_x correction: 0.0004069910586541544 deg\n",
            "INFO:stpipe.AssignWcsStep:theta_x correction: 0.0004069910586541544 deg\n",
            "INFO:jwst.assign_wcs.nirspec:Slits projected on detector NRS1: ['S1600A1']\n",
            "2023-03-10 14:47:20,150 - stpipe.AssignWcsStep - INFO - Slits projected on detector NRS1: ['S1600A1']\n",
            "INFO:stpipe.AssignWcsStep:Slits projected on detector NRS1: ['S1600A1']\n",
            "INFO:jwst.assign_wcs.nirspec:Computing WCS for 1 open slitlets\n",
            "2023-03-10 14:47:20,163 - stpipe.AssignWcsStep - INFO - Computing WCS for 1 open slitlets\n",
            "INFO:stpipe.AssignWcsStep:Computing WCS for 1 open slitlets\n",
            "INFO:jwst.assign_wcs.nirspec:gwa_ytilt is 0.032141870000008 deg\n",
            "2023-03-10 14:47:20,279 - stpipe.AssignWcsStep - INFO - gwa_ytilt is 0.032141870000008 deg\n",
            "INFO:stpipe.AssignWcsStep:gwa_ytilt is 0.032141870000008 deg\n",
            "INFO:jwst.assign_wcs.nirspec:gwa_xtilt is 0.3360183000002388 deg\n",
            "2023-03-10 14:47:20,287 - stpipe.AssignWcsStep - INFO - gwa_xtilt is 0.3360183000002388 deg\n",
            "INFO:stpipe.AssignWcsStep:gwa_xtilt is 0.3360183000002388 deg\n",
            "INFO:jwst.assign_wcs.nirspec:theta_y correction: 0.0044226140118045505 deg\n",
            "2023-03-10 14:47:20,292 - stpipe.AssignWcsStep - INFO - theta_y correction: 0.0044226140118045505 deg\n",
            "INFO:stpipe.AssignWcsStep:theta_y correction: 0.0044226140118045505 deg\n",
            "INFO:jwst.assign_wcs.nirspec:theta_x correction: 0.0004069910586541544 deg\n",
            "2023-03-10 14:47:20,299 - stpipe.AssignWcsStep - INFO - theta_x correction: 0.0004069910586541544 deg\n",
            "INFO:stpipe.AssignWcsStep:theta_x correction: 0.0004069910586541544 deg\n",
            "INFO:jwst.assign_wcs.nirspec:SPORDER= 0, wrange=[6e-07, 5.3e-06]\n",
            "2023-03-10 14:47:20,351 - stpipe.AssignWcsStep - INFO - SPORDER= 0, wrange=[6e-07, 5.3e-06]\n",
            "INFO:stpipe.AssignWcsStep:SPORDER= 0, wrange=[6e-07, 5.3e-06]\n",
            "INFO:jwst.assign_wcs.nirspec:Applied Barycentric velocity correction : 0.9999084968653182\n",
            "2023-03-10 14:47:20,545 - stpipe.AssignWcsStep - INFO - Applied Barycentric velocity correction : 0.9999084968653182\n",
            "INFO:stpipe.AssignWcsStep:Applied Barycentric velocity correction : 0.9999084968653182\n",
            "INFO:jwst.assign_wcs.nirspec:There are 0 open slits in quadrant 1\n",
            "2023-03-10 14:47:20,654 - stpipe.AssignWcsStep - INFO - There are 0 open slits in quadrant 1\n",
            "INFO:stpipe.AssignWcsStep:There are 0 open slits in quadrant 1\n",
            "INFO:jwst.assign_wcs.nirspec:There are 0 open slits in quadrant 2\n",
            "2023-03-10 14:47:20,660 - stpipe.AssignWcsStep - INFO - There are 0 open slits in quadrant 2\n",
            "INFO:stpipe.AssignWcsStep:There are 0 open slits in quadrant 2\n",
            "INFO:jwst.assign_wcs.nirspec:There are 0 open slits in quadrant 3\n",
            "2023-03-10 14:47:20,665 - stpipe.AssignWcsStep - INFO - There are 0 open slits in quadrant 3\n",
            "INFO:stpipe.AssignWcsStep:There are 0 open slits in quadrant 3\n",
            "INFO:jwst.assign_wcs.nirspec:There are 0 open slits in quadrant 4\n",
            "2023-03-10 14:47:20,670 - stpipe.AssignWcsStep - INFO - There are 0 open slits in quadrant 4\n",
            "INFO:stpipe.AssignWcsStep:There are 0 open slits in quadrant 4\n",
            "INFO:jwst.assign_wcs.nirspec:There are 1 open slits in quadrant 5\n",
            "2023-03-10 14:47:20,674 - stpipe.AssignWcsStep - INFO - There are 1 open slits in quadrant 5\n",
            "INFO:stpipe.AssignWcsStep:There are 1 open slits in quadrant 5\n",
            "INFO:jwst.assign_wcs.nirspec:Created a NIRSPEC nrs_brightobj pipeline with references {'distortion': None, 'filteroffset': None, 'specwcs': None, 'regions': None, 'wavelengthrange': '/content/JWST_practical/crds_cache/references/jwst/nirspec/jwst_nirspec_wavelengthrange_0006.asdf', 'camera': '/content/JWST_practical/crds_cache/references/jwst/nirspec/jwst_nirspec_camera_0007.asdf', 'collimator': '/content/JWST_practical/crds_cache/references/jwst/nirspec/jwst_nirspec_collimator_0007.asdf', 'disperser': '/content/JWST_practical/crds_cache/references/jwst/nirspec/jwst_nirspec_disperser_0062.asdf', 'fore': '/content/JWST_practical/crds_cache/references/jwst/nirspec/jwst_nirspec_fore_0049.asdf', 'fpa': '/content/JWST_practical/crds_cache/references/jwst/nirspec/jwst_nirspec_fpa_0008.asdf', 'msa': '/content/JWST_practical/crds_cache/references/jwst/nirspec/jwst_nirspec_msa_0008.asdf', 'ote': '/content/JWST_practical/crds_cache/references/jwst/nirspec/jwst_nirspec_ote_0010.asdf', 'ifupost': None, 'ifufore': None, 'ifuslicer': None}\n",
            "2023-03-10 14:47:21,131 - stpipe.AssignWcsStep - INFO - Created a NIRSPEC nrs_brightobj pipeline with references {'distortion': None, 'filteroffset': None, 'specwcs': None, 'regions': None, 'wavelengthrange': '/content/JWST_practical/crds_cache/references/jwst/nirspec/jwst_nirspec_wavelengthrange_0006.asdf', 'camera': '/content/JWST_practical/crds_cache/references/jwst/nirspec/jwst_nirspec_camera_0007.asdf', 'collimator': '/content/JWST_practical/crds_cache/references/jwst/nirspec/jwst_nirspec_collimator_0007.asdf', 'disperser': '/content/JWST_practical/crds_cache/references/jwst/nirspec/jwst_nirspec_disperser_0062.asdf', 'fore': '/content/JWST_practical/crds_cache/references/jwst/nirspec/jwst_nirspec_fore_0049.asdf', 'fpa': '/content/JWST_practical/crds_cache/references/jwst/nirspec/jwst_nirspec_fpa_0008.asdf', 'msa': '/content/JWST_practical/crds_cache/references/jwst/nirspec/jwst_nirspec_msa_0008.asdf', 'ote': '/content/JWST_practical/crds_cache/references/jwst/nirspec/jwst_nirspec_ote_0010.asdf', 'ifupost': None, 'ifufore': None, 'ifuslicer': None}\n",
            "INFO:stpipe.AssignWcsStep:Created a NIRSPEC nrs_brightobj pipeline with references {'distortion': None, 'filteroffset': None, 'specwcs': None, 'regions': None, 'wavelengthrange': '/content/JWST_practical/crds_cache/references/jwst/nirspec/jwst_nirspec_wavelengthrange_0006.asdf', 'camera': '/content/JWST_practical/crds_cache/references/jwst/nirspec/jwst_nirspec_camera_0007.asdf', 'collimator': '/content/JWST_practical/crds_cache/references/jwst/nirspec/jwst_nirspec_collimator_0007.asdf', 'disperser': '/content/JWST_practical/crds_cache/references/jwst/nirspec/jwst_nirspec_disperser_0062.asdf', 'fore': '/content/JWST_practical/crds_cache/references/jwst/nirspec/jwst_nirspec_fore_0049.asdf', 'fpa': '/content/JWST_practical/crds_cache/references/jwst/nirspec/jwst_nirspec_fpa_0008.asdf', 'msa': '/content/JWST_practical/crds_cache/references/jwst/nirspec/jwst_nirspec_msa_0008.asdf', 'ote': '/content/JWST_practical/crds_cache/references/jwst/nirspec/jwst_nirspec_ote_0010.asdf', 'ifupost': None, 'ifufore': None, 'ifuslicer': None}\n",
            "INFO:jwst.assign_wcs.assign_wcs:COMPLETED assign_wcs\n",
            "2023-03-10 14:47:21,405 - stpipe.AssignWcsStep - INFO - COMPLETED assign_wcs\n",
            "INFO:stpipe.AssignWcsStep:COMPLETED assign_wcs\n",
            "INFO:jwst.stpipe.core:Results used CRDS context: jwst_1063.pmap\n",
            "2023-03-10 14:47:21,439 - stpipe.AssignWcsStep - INFO - Results used CRDS context: jwst_1063.pmap\n",
            "INFO:stpipe.AssignWcsStep:Results used CRDS context: jwst_1063.pmap\n",
            "2023-03-10 14:47:21,444 - stpipe.AssignWcsStep - INFO - Step AssignWcsStep done\n",
            "INFO:stpipe.AssignWcsStep:Step AssignWcsStep done\n",
            "2023-03-10 14:47:21,449 - stpipe.CustomBkgStage2_prism - INFO - CustomBkgStage2_prism instance created.\n",
            "INFO:stpipe.CustomBkgStage2_prism:CustomBkgStage2_prism instance created.\n",
            "2023-03-10 14:47:21,595 - stpipe.CustomBkgStage2_prism - INFO - Step CustomBkgStage2_prism running with args (<CubeModel(215, 32, 512) from WASP-39b_prism_seg_COMBINED_rateints.fits>,).\n",
            "INFO:stpipe.CustomBkgStage2_prism:Step CustomBkgStage2_prism running with args (<CubeModel(215, 32, 512) from WASP-39b_prism_seg_COMBINED_rateints.fits>,).\n",
            "2023-03-10 14:47:21,604 - stpipe.CustomBkgStage2_prism - INFO - Step CustomBkgStage2_prism parameters are: {'pre_hooks': [], 'post_hooks': [], 'output_file': None, 'output_dir': None, 'output_ext': '.fits', 'output_use_model': False, 'output_use_index': True, 'save_results': False, 'skip': False, 'suffix': None, 'search_output_file': True, 'input_dir': ''}\n",
            "INFO:stpipe.CustomBkgStage2_prism:Step CustomBkgStage2_prism parameters are: {'pre_hooks': [], 'post_hooks': [], 'output_file': None, 'output_dir': None, 'output_ext': '.fits', 'output_use_model': False, 'output_use_index': True, 'save_results': False, 'skip': False, 'suffix': None, 'search_output_file': True, 'input_dir': ''}\n",
            "WARNING:py.warnings:/usr/local/lib/python3.9/dist-packages/numpy/lib/nanfunctions.py:1218: RuntimeWarning: All-NaN slice encountered\n",
            "  r, k = function_base._ureduce(a, func=_nanmedian, axis=axis, out=out,\n",
            "\n",
            "2023-03-10 14:47:22,268 - stpipe.CustomBkgStage2_prism - WARNING - /usr/local/lib/python3.9/dist-packages/numpy/lib/nanfunctions.py:1218: RuntimeWarning: All-NaN slice encountered\n",
            "  r, k = function_base._ureduce(a, func=_nanmedian, axis=axis, out=out,\n",
            "\n",
            "WARNING:stpipe.CustomBkgStage2_prism:/usr/local/lib/python3.9/dist-packages/numpy/lib/nanfunctions.py:1218: RuntimeWarning: All-NaN slice encountered\n",
            "  r, k = function_base._ureduce(a, func=_nanmedian, axis=axis, out=out,\n",
            "\n",
            "2023-03-10 14:47:22,873 - stpipe.CustomBkgStage2_prism - INFO - Step CustomBkgStage2_prism done\n",
            "INFO:stpipe.CustomBkgStage2_prism:Step CustomBkgStage2_prism done\n",
            "2023-03-10 14:47:22,881 - stpipe.CustomBadPixelIdentifier - INFO - CustomBadPixelIdentifier instance created.\n",
            "INFO:stpipe.CustomBadPixelIdentifier:CustomBadPixelIdentifier instance created.\n",
            "2023-03-10 14:47:23,092 - stpipe.CustomBadPixelIdentifier - INFO - Step CustomBadPixelIdentifier running with args (<CubeModel(215, 32, 512) from WASP-39b_prism_seg_COMBINED_rateints.fits>,).\n",
            "INFO:stpipe.CustomBadPixelIdentifier:Step CustomBadPixelIdentifier running with args (<CubeModel(215, 32, 512) from WASP-39b_prism_seg_COMBINED_rateints.fits>,).\n",
            "2023-03-10 14:47:23,098 - stpipe.CustomBadPixelIdentifier - INFO - Step CustomBadPixelIdentifier parameters are: {'pre_hooks': [], 'post_hooks': [], 'output_file': None, 'output_dir': None, 'output_ext': '.fits', 'output_use_model': False, 'output_use_index': True, 'save_results': False, 'skip': False, 'suffix': None, 'search_output_file': True, 'input_dir': ''}\n",
            "INFO:stpipe.CustomBadPixelIdentifier:Step CustomBadPixelIdentifier parameters are: {'pre_hooks': [], 'post_hooks': [], 'output_file': None, 'output_dir': None, 'output_ext': '.fits', 'output_use_model': False, 'output_use_index': True, 'save_results': False, 'skip': False, 'suffix': None, 'search_output_file': True, 'input_dir': ''}\n"
          ]
        },
        {
          "output_type": "stream",
          "name": "stdout",
          "text": [
            "bad pixel flagging for image 0.....\n",
            "bad pixel flagging for image 1.....\n",
            "bad pixel flagging for image 2.....\n",
            "bad pixel flagging for image 3.....\n",
            "bad pixel flagging for image 4.....\n",
            "bad pixel flagging for image 5.....\n",
            "bad pixel flagging for image 6.....\n",
            "bad pixel flagging for image 7.....\n",
            "bad pixel flagging for image 8.....\n",
            "bad pixel flagging for image 9.....\n",
            "bad pixel flagging for image 10.....\n",
            "bad pixel flagging for image 11.....\n",
            "bad pixel flagging for image 12.....\n",
            "bad pixel flagging for image 13.....\n",
            "bad pixel flagging for image 14.....\n",
            "bad pixel flagging for image 15.....\n",
            "bad pixel flagging for image 16.....\n",
            "bad pixel flagging for image 17.....\n",
            "bad pixel flagging for image 18.....\n",
            "bad pixel flagging for image 19.....\n",
            "bad pixel flagging for image 20.....\n",
            "bad pixel flagging for image 21.....\n",
            "bad pixel flagging for image 22.....\n",
            "bad pixel flagging for image 23.....\n",
            "bad pixel flagging for image 24.....\n",
            "bad pixel flagging for image 25.....\n",
            "bad pixel flagging for image 26.....\n",
            "bad pixel flagging for image 27.....\n",
            "bad pixel flagging for image 28.....\n",
            "bad pixel flagging for image 29.....\n",
            "bad pixel flagging for image 30.....\n",
            "bad pixel flagging for image 31.....\n",
            "bad pixel flagging for image 32.....\n",
            "bad pixel flagging for image 33.....\n",
            "bad pixel flagging for image 34.....\n",
            "bad pixel flagging for image 35.....\n",
            "bad pixel flagging for image 36.....\n",
            "bad pixel flagging for image 37.....\n",
            "bad pixel flagging for image 38.....\n",
            "bad pixel flagging for image 39.....\n",
            "bad pixel flagging for image 40.....\n",
            "bad pixel flagging for image 41.....\n",
            "bad pixel flagging for image 42.....\n",
            "bad pixel flagging for image 43.....\n",
            "bad pixel flagging for image 44.....\n",
            "bad pixel flagging for image 45.....\n",
            "bad pixel flagging for image 46.....\n",
            "bad pixel flagging for image 47.....\n",
            "bad pixel flagging for image 48.....\n",
            "bad pixel flagging for image 49.....\n",
            "bad pixel flagging for image 50.....\n",
            "bad pixel flagging for image 51.....\n",
            "bad pixel flagging for image 52.....\n",
            "bad pixel flagging for image 53.....\n",
            "bad pixel flagging for image 54.....\n",
            "bad pixel flagging for image 55.....\n",
            "bad pixel flagging for image 56.....\n",
            "bad pixel flagging for image 57.....\n",
            "bad pixel flagging for image 58.....\n",
            "bad pixel flagging for image 59.....\n",
            "bad pixel flagging for image 60.....\n",
            "bad pixel flagging for image 61.....\n",
            "bad pixel flagging for image 62.....\n",
            "bad pixel flagging for image 63.....\n",
            "bad pixel flagging for image 64.....\n",
            "bad pixel flagging for image 65.....\n",
            "bad pixel flagging for image 66.....\n",
            "bad pixel flagging for image 67.....\n",
            "bad pixel flagging for image 68.....\n",
            "bad pixel flagging for image 69.....\n",
            "bad pixel flagging for image 70.....\n",
            "bad pixel flagging for image 71.....\n",
            "bad pixel flagging for image 72.....\n",
            "bad pixel flagging for image 73.....\n",
            "bad pixel flagging for image 74.....\n",
            "bad pixel flagging for image 75.....\n",
            "bad pixel flagging for image 76.....\n",
            "bad pixel flagging for image 77.....\n",
            "bad pixel flagging for image 78.....\n",
            "bad pixel flagging for image 79.....\n",
            "bad pixel flagging for image 80.....\n",
            "bad pixel flagging for image 81.....\n",
            "bad pixel flagging for image 82.....\n",
            "bad pixel flagging for image 83.....\n",
            "bad pixel flagging for image 84.....\n",
            "bad pixel flagging for image 85.....\n",
            "bad pixel flagging for image 86.....\n",
            "bad pixel flagging for image 87.....\n",
            "bad pixel flagging for image 88.....\n",
            "bad pixel flagging for image 89.....\n",
            "bad pixel flagging for image 90.....\n",
            "bad pixel flagging for image 91.....\n",
            "bad pixel flagging for image 92.....\n",
            "bad pixel flagging for image 93.....\n",
            "bad pixel flagging for image 94.....\n",
            "bad pixel flagging for image 95.....\n",
            "bad pixel flagging for image 96.....\n",
            "bad pixel flagging for image 97.....\n",
            "bad pixel flagging for image 98.....\n",
            "bad pixel flagging for image 99.....\n",
            "bad pixel flagging for image 100.....\n",
            "bad pixel flagging for image 101.....\n",
            "bad pixel flagging for image 102.....\n",
            "bad pixel flagging for image 103.....\n",
            "bad pixel flagging for image 104.....\n",
            "bad pixel flagging for image 105.....\n",
            "bad pixel flagging for image 106.....\n",
            "bad pixel flagging for image 107.....\n",
            "bad pixel flagging for image 108.....\n",
            "bad pixel flagging for image 109.....\n",
            "bad pixel flagging for image 110.....\n",
            "bad pixel flagging for image 111.....\n",
            "bad pixel flagging for image 112.....\n",
            "bad pixel flagging for image 113.....\n",
            "bad pixel flagging for image 114.....\n",
            "bad pixel flagging for image 115.....\n",
            "bad pixel flagging for image 116.....\n",
            "bad pixel flagging for image 117.....\n",
            "bad pixel flagging for image 118.....\n",
            "bad pixel flagging for image 119.....\n",
            "bad pixel flagging for image 120.....\n",
            "bad pixel flagging for image 121.....\n",
            "bad pixel flagging for image 122.....\n",
            "bad pixel flagging for image 123.....\n",
            "bad pixel flagging for image 124.....\n",
            "bad pixel flagging for image 125.....\n",
            "bad pixel flagging for image 126.....\n",
            "bad pixel flagging for image 127.....\n",
            "bad pixel flagging for image 128.....\n",
            "bad pixel flagging for image 129.....\n",
            "bad pixel flagging for image 130.....\n",
            "bad pixel flagging for image 131.....\n",
            "bad pixel flagging for image 132.....\n",
            "bad pixel flagging for image 133.....\n",
            "bad pixel flagging for image 134.....\n",
            "bad pixel flagging for image 135.....\n",
            "bad pixel flagging for image 136.....\n",
            "bad pixel flagging for image 137.....\n",
            "bad pixel flagging for image 138.....\n",
            "bad pixel flagging for image 139.....\n",
            "bad pixel flagging for image 140.....\n",
            "bad pixel flagging for image 141.....\n",
            "bad pixel flagging for image 142.....\n",
            "bad pixel flagging for image 143.....\n",
            "bad pixel flagging for image 144.....\n",
            "bad pixel flagging for image 145.....\n",
            "bad pixel flagging for image 146.....\n",
            "bad pixel flagging for image 147.....\n",
            "bad pixel flagging for image 148.....\n",
            "bad pixel flagging for image 149.....\n",
            "bad pixel flagging for image 150.....\n",
            "bad pixel flagging for image 151.....\n",
            "bad pixel flagging for image 152.....\n",
            "bad pixel flagging for image 153.....\n",
            "bad pixel flagging for image 154.....\n",
            "bad pixel flagging for image 155.....\n",
            "bad pixel flagging for image 156.....\n",
            "bad pixel flagging for image 157.....\n",
            "bad pixel flagging for image 158.....\n",
            "bad pixel flagging for image 159.....\n",
            "bad pixel flagging for image 160.....\n",
            "bad pixel flagging for image 161.....\n",
            "bad pixel flagging for image 162.....\n",
            "bad pixel flagging for image 163.....\n",
            "bad pixel flagging for image 164.....\n",
            "bad pixel flagging for image 165.....\n",
            "bad pixel flagging for image 166.....\n",
            "bad pixel flagging for image 167.....\n",
            "bad pixel flagging for image 168.....\n",
            "bad pixel flagging for image 169.....\n",
            "bad pixel flagging for image 170.....\n",
            "bad pixel flagging for image 171.....\n",
            "bad pixel flagging for image 172.....\n",
            "bad pixel flagging for image 173.....\n",
            "bad pixel flagging for image 174.....\n",
            "bad pixel flagging for image 175.....\n",
            "bad pixel flagging for image 176.....\n",
            "bad pixel flagging for image 177.....\n",
            "bad pixel flagging for image 178.....\n",
            "bad pixel flagging for image 179.....\n",
            "bad pixel flagging for image 180.....\n",
            "bad pixel flagging for image 181.....\n",
            "bad pixel flagging for image 182.....\n",
            "bad pixel flagging for image 183.....\n",
            "bad pixel flagging for image 184.....\n",
            "bad pixel flagging for image 185.....\n",
            "bad pixel flagging for image 186.....\n",
            "bad pixel flagging for image 187.....\n",
            "bad pixel flagging for image 188.....\n",
            "bad pixel flagging for image 189.....\n",
            "bad pixel flagging for image 190.....\n",
            "bad pixel flagging for image 191.....\n",
            "bad pixel flagging for image 192.....\n",
            "bad pixel flagging for image 193.....\n",
            "bad pixel flagging for image 194.....\n",
            "bad pixel flagging for image 195.....\n",
            "bad pixel flagging for image 196.....\n",
            "bad pixel flagging for image 197.....\n",
            "bad pixel flagging for image 198.....\n",
            "bad pixel flagging for image 199.....\n",
            "bad pixel flagging for image 200.....\n",
            "bad pixel flagging for image 201.....\n",
            "bad pixel flagging for image 202.....\n",
            "bad pixel flagging for image 203.....\n",
            "bad pixel flagging for image 204.....\n",
            "bad pixel flagging for image 205.....\n",
            "bad pixel flagging for image 206.....\n",
            "bad pixel flagging for image 207.....\n",
            "bad pixel flagging for image 208.....\n",
            "bad pixel flagging for image 209.....\n",
            "bad pixel flagging for image 210.....\n",
            "bad pixel flagging for image 211.....\n",
            "bad pixel flagging for image 212.....\n",
            "bad pixel flagging for image 213.....\n",
            "bad pixel flagging for image 214.....\n"
          ]
        },
        {
          "output_type": "stream",
          "name": "stderr",
          "text": [
            "2023-03-10 14:48:45,929 - stpipe.CustomBadPixelIdentifier - INFO - Step CustomBadPixelIdentifier done\n",
            "INFO:stpipe.CustomBadPixelIdentifier:Step CustomBadPixelIdentifier done\n"
          ]
        }
      ],
      "source": [
        "# =============================================================================\n",
        "# now run pipeline on combined file \n",
        "# =============================================================================\n",
        "result = rateints_file\n",
        "\n",
        "step = AssignWcsStep()\n",
        "step.save_results = False\n",
        "result = step.run(result)\n",
        " \n",
        "step = CustomBkgStage2_prism()\n",
        "step.save_results = False\n",
        "result = step.run(result)  \n",
        "\n",
        "step = CustomBadPixelIdentifier()\n",
        "step.save_results = False\n",
        "result = step.run(result)\n",
        "\n"
      ]
    },
    {
      "cell_type": "markdown",
      "source": [
        "We next run these 4 steps.  Look up what each of these steps do: \n",
        "\n",
        "https://jwst-pipeline.readthedocs.io/en/latest/api/jwst.extract_2d.Extract2dStep.html\n",
        "\n",
        "https://jwst-pipeline.readthedocs.io/en/latest/jwst/srctype/index.html\n",
        "\n",
        "https://jwst-pipeline.readthedocs.io/en/latest/jwst/wavecorr/index.html\n",
        "\n",
        "https://jwst-pipeline.readthedocs.io/en/latest/jwst/photom/index.html\n",
        "\n",
        "Note we are omitting flat fielding.  This is because the JWST flat field reference files are not accurate at this time.\n",
        "\n",
        "We place the results after the Photom step into a FITS file."
      ],
      "metadata": {
        "id": "gJG0pYV1DSUO"
      }
    },
    {
      "cell_type": "code",
      "execution_count": 17,
      "metadata": {
        "id": "5FLJCN_RfHZl",
        "outputId": "4a4ea9ee-1c45-4a41-ff89-c876f2d81ccc",
        "colab": {
          "base_uri": "https://localhost:8080/",
          "height": 1000
        }
      },
      "outputs": [
        {
          "output_type": "stream",
          "name": "stderr",
          "text": [
            "2023-03-10 14:49:46,507 - stpipe.Extract2dStep - INFO - Extract2dStep instance created.\n",
            "INFO:stpipe.Extract2dStep:Extract2dStep instance created.\n",
            "2023-03-10 14:49:46,687 - stpipe.Extract2dStep - INFO - Step Extract2dStep running with args (<CubeModel(215, 32, 512) from WASP-39b_prism_seg_COMBINED_rateints.fits>,).\n",
            "INFO:stpipe.Extract2dStep:Step Extract2dStep running with args (<CubeModel(215, 32, 512) from WASP-39b_prism_seg_COMBINED_rateints.fits>,).\n",
            "2023-03-10 14:49:46,694 - stpipe.Extract2dStep - INFO - Step Extract2dStep parameters are: {'pre_hooks': [], 'post_hooks': [], 'output_file': None, 'output_dir': None, 'output_ext': '.fits', 'output_use_model': False, 'output_use_index': True, 'save_results': False, 'skip': False, 'suffix': None, 'search_output_file': True, 'input_dir': '', 'slit_name': None, 'extract_orders': None, 'grism_objects': None, 'tsgrism_extract_height': None, 'wfss_extract_half_height': 5, 'wfss_mmag_extract': None, 'wfss_nbright': 1000}\n",
            "INFO:stpipe.Extract2dStep:Step Extract2dStep parameters are: {'pre_hooks': [], 'post_hooks': [], 'output_file': None, 'output_dir': None, 'output_ext': '.fits', 'output_use_model': False, 'output_use_index': True, 'save_results': False, 'skip': False, 'suffix': None, 'search_output_file': True, 'input_dir': '', 'slit_name': None, 'extract_orders': None, 'grism_objects': None, 'tsgrism_extract_height': None, 'wfss_extract_half_height': 5, 'wfss_mmag_extract': None, 'wfss_nbright': 1000}\n",
            "INFO:jwst.extract_2d.extract_2d:EXP_TYPE is NRS_BRIGHTOBJ\n",
            "2023-03-10 14:49:46,742 - stpipe.Extract2dStep - INFO - EXP_TYPE is NRS_BRIGHTOBJ\n",
            "INFO:stpipe.Extract2dStep:EXP_TYPE is NRS_BRIGHTOBJ\n",
            "INFO:jwst.extract_2d.nirspec:Name of subarray extracted: S1600A1\n",
            "2023-03-10 14:49:46,990 - stpipe.Extract2dStep - INFO - Name of subarray extracted: S1600A1\n",
            "INFO:stpipe.Extract2dStep:Name of subarray extracted: S1600A1\n",
            "INFO:jwst.extract_2d.nirspec:Subarray x-extents are: 31 463\n",
            "2023-03-10 14:49:47,013 - stpipe.Extract2dStep - INFO - Subarray x-extents are: 31 463\n",
            "INFO:stpipe.Extract2dStep:Subarray x-extents are: 31 463\n",
            "INFO:jwst.extract_2d.nirspec:Subarray y-extents are: 3 25\n",
            "2023-03-10 14:49:47,023 - stpipe.Extract2dStep - INFO - Subarray y-extents are: 3 25\n",
            "INFO:stpipe.Extract2dStep:Subarray y-extents are: 3 25\n",
            "DEBUG:jwst.extract_2d.nirspec:TSO data, so copying the INT_TIMES table.\n",
            "DEBUG:stpipe.Extract2dStep:TSO data, so copying the INT_TIMES table.\n",
            "DEBUG:jwst.extract_2d.nirspec:Input model type is CubeModel\n",
            "DEBUG:stpipe.Extract2dStep:Input model type is CubeModel\n",
            "DEBUG:jwst.extract_2d.nirspec:slit.ymin -0.55\n",
            "DEBUG:stpipe.Extract2dStep:slit.ymin -0.55\n",
            "INFO:jwst.extract_2d.nirspec:set slit_attributes completed\n",
            "2023-03-10 14:49:47,429 - stpipe.Extract2dStep - INFO - set slit_attributes completed\n",
            "INFO:stpipe.Extract2dStep:set slit_attributes completed\n",
            "INFO:jwst.assign_wcs.util:Update S_REGION to POLYGON ICRS  217.326447502 -3.444789497 217.326913021 -3.444631714 217.326766424 -3.444212332 217.326300882 -3.444370070\n",
            "2023-03-10 14:49:47,456 - stpipe.Extract2dStep - INFO - Update S_REGION to POLYGON ICRS  217.326447502 -3.444789497 217.326913021 -3.444631714 217.326766424 -3.444212332 217.326300882 -3.444370070\n",
            "INFO:stpipe.Extract2dStep:Update S_REGION to POLYGON ICRS  217.326447502 -3.444789497 217.326913021 -3.444631714 217.326766424 -3.444212332 217.326300882 -3.444370070\n",
            "INFO:jwst.extract_2d.nirspec:extract_2d updated S_REGION to POLYGON ICRS  217.326447502 -3.444789497 217.326913021 -3.444631714 217.326766424 -3.444212332 217.326300882 -3.444370070\n",
            "2023-03-10 14:49:47,464 - stpipe.Extract2dStep - INFO - extract_2d updated S_REGION to POLYGON ICRS  217.326447502 -3.444789497 217.326913021 -3.444631714 217.326766424 -3.444212332 217.326300882 -3.444370070\n",
            "INFO:stpipe.Extract2dStep:extract_2d updated S_REGION to POLYGON ICRS  217.326447502 -3.444789497 217.326913021 -3.444631714 217.326766424 -3.444212332 217.326300882 -3.444370070\n",
            "INFO:jwst.stpipe.core:Results used CRDS context: jwst_1063.pmap\n",
            "2023-03-10 14:49:47,489 - stpipe.Extract2dStep - INFO - Results used CRDS context: jwst_1063.pmap\n",
            "INFO:stpipe.Extract2dStep:Results used CRDS context: jwst_1063.pmap\n",
            "2023-03-10 14:49:47,497 - stpipe.Extract2dStep - INFO - Step Extract2dStep done\n",
            "INFO:stpipe.Extract2dStep:Step Extract2dStep done\n",
            "2023-03-10 14:49:47,505 - stpipe.SourceTypeStep - INFO - SourceTypeStep instance created.\n",
            "INFO:stpipe.SourceTypeStep:SourceTypeStep instance created.\n",
            "2023-03-10 14:49:47,682 - stpipe.SourceTypeStep - INFO - Step SourceTypeStep running with args (<SlitModel(215, 22, 432) from WASP-39b_prism_seg_COMBINED_rateints.fits>,).\n",
            "INFO:stpipe.SourceTypeStep:Step SourceTypeStep running with args (<SlitModel(215, 22, 432) from WASP-39b_prism_seg_COMBINED_rateints.fits>,).\n",
            "2023-03-10 14:49:47,691 - stpipe.SourceTypeStep - INFO - Step SourceTypeStep parameters are: {'pre_hooks': [], 'post_hooks': [], 'output_file': None, 'output_dir': None, 'output_ext': '.fits', 'output_use_model': False, 'output_use_index': True, 'save_results': False, 'skip': False, 'suffix': None, 'search_output_file': True, 'input_dir': '', 'source_type': None}\n",
            "INFO:stpipe.SourceTypeStep:Step SourceTypeStep parameters are: {'pre_hooks': [], 'post_hooks': [], 'output_file': None, 'output_dir': None, 'output_ext': '.fits', 'output_use_model': False, 'output_use_index': True, 'save_results': False, 'skip': False, 'suffix': None, 'search_output_file': True, 'input_dir': '', 'source_type': None}\n",
            "INFO:jwst.srctype.srctype:Input EXP_TYPE is NRS_BRIGHTOBJ\n",
            "2023-03-10 14:49:47,976 - stpipe.SourceTypeStep - INFO - Input EXP_TYPE is NRS_BRIGHTOBJ\n",
            "INFO:stpipe.SourceTypeStep:Input EXP_TYPE is NRS_BRIGHTOBJ\n",
            "INFO:jwst.srctype.srctype:Input SRCTYAPT = UNKNOWN\n",
            "2023-03-10 14:49:47,984 - stpipe.SourceTypeStep - INFO - Input SRCTYAPT = UNKNOWN\n",
            "INFO:stpipe.SourceTypeStep:Input SRCTYAPT = UNKNOWN\n",
            "INFO:jwst.srctype.srctype:Input is a TSO exposure; setting SRCTYPE = POINT\n",
            "2023-03-10 14:49:47,990 - stpipe.SourceTypeStep - INFO - Input is a TSO exposure; setting SRCTYPE = POINT\n",
            "INFO:stpipe.SourceTypeStep:Input is a TSO exposure; setting SRCTYPE = POINT\n",
            "2023-03-10 14:49:48,013 - stpipe.SourceTypeStep - INFO - Step SourceTypeStep done\n",
            "INFO:stpipe.SourceTypeStep:Step SourceTypeStep done\n",
            "2023-03-10 14:49:48,021 - stpipe.WavecorrStep - INFO - WavecorrStep instance created.\n",
            "INFO:stpipe.WavecorrStep:WavecorrStep instance created.\n",
            "2023-03-10 14:49:48,201 - stpipe.WavecorrStep - INFO - Step WavecorrStep running with args (<SlitModel(215, 22, 432) from WASP-39b_prism_seg_COMBINED_rateints.fits>,).\n",
            "INFO:stpipe.WavecorrStep:Step WavecorrStep running with args (<SlitModel(215, 22, 432) from WASP-39b_prism_seg_COMBINED_rateints.fits>,).\n",
            "2023-03-10 14:49:48,210 - stpipe.WavecorrStep - INFO - Step WavecorrStep parameters are: {'pre_hooks': [], 'post_hooks': [], 'output_file': None, 'output_dir': None, 'output_ext': '.fits', 'output_use_model': False, 'output_use_index': True, 'save_results': False, 'skip': False, 'suffix': None, 'search_output_file': True, 'input_dir': ''}\n",
            "INFO:stpipe.WavecorrStep:Step WavecorrStep parameters are: {'pre_hooks': [], 'post_hooks': [], 'output_file': None, 'output_dir': None, 'output_ext': '.fits', 'output_use_model': False, 'output_use_index': True, 'save_results': False, 'skip': False, 'suffix': None, 'search_output_file': True, 'input_dir': ''}\n",
            "2023-03-10 14:49:48,715 - CRDS - INFO -  Fetching  /content/JWST_practical/crds_cache/references/jwst/nirspec/jwst_nirspec_wavecorr_0003.asdf   76.9 K bytes  (1 / 1 files) (0 / 76.9 K bytes)\n",
            "2023-03-10 14:49:49,167 - stpipe.WavecorrStep - INFO - Using WAVECORR reference file /content/JWST_practical/crds_cache/references/jwst/nirspec/jwst_nirspec_wavecorr_0003.asdf\n",
            "INFO:stpipe.WavecorrStep:Using WAVECORR reference file /content/JWST_practical/crds_cache/references/jwst/nirspec/jwst_nirspec_wavecorr_0003.asdf\n",
            "INFO:jwst.wavecorr.wavecorr:Detected a POINT source type in slit S1600A1\n",
            "2023-03-10 14:49:49,580 - stpipe.WavecorrStep - INFO - Detected a POINT source type in slit S1600A1\n",
            "INFO:stpipe.WavecorrStep:Detected a POINT source type in slit S1600A1\n",
            "INFO:jwst.wavecorr.wavecorr:slit name S1600A1\n",
            "2023-03-10 14:49:49,587 - stpipe.WavecorrStep - INFO - slit name S1600A1\n",
            "INFO:stpipe.WavecorrStep:slit name S1600A1\n",
            "DEBUG:jwst.wavecorr.wavecorr:wcsinfo: 321.222656, -473.829987, 138.84448242, -1\n",
            "DEBUG:stpipe.WavecorrStep:wcsinfo: 321.222656, -473.829987, 138.84448242, -1\n",
            "INFO:jwst.wavecorr.wavecorr:xoffset, yoffset, 6.03933060849859e-13, -6.0457443092806e-13\n",
            "2023-03-10 14:49:49,602 - stpipe.WavecorrStep - INFO - xoffset, yoffset, 6.03933060849859e-13, -6.0457443092806e-13\n",
            "INFO:stpipe.WavecorrStep:xoffset, yoffset, 6.03933060849859e-13, -6.0457443092806e-13\n",
            "DEBUG:jwst.wavecorr.wavecorr:Source X/Y position in V2V3: 321.22265600000003, -473.82998699999916\n",
            "DEBUG:stpipe.WavecorrStep:Source X/Y position in V2V3: 321.22265600000003, -473.82998699999916\n",
            "INFO:jwst.wavecorr.wavecorr:Source X/Y position in the slit: 2.305738253431828e-05, -9.159020485549006e-05\n",
            "2023-03-10 14:49:49,686 - stpipe.WavecorrStep - INFO - Source X/Y position in the slit: 2.305738253431828e-05, -9.159020485549006e-05\n",
            "INFO:stpipe.WavecorrStep:Source X/Y position in the slit: 2.305738253431828e-05, -9.159020485549006e-05\n",
            "INFO:jwst.wavecorr.wavecorr:Using wavelength zero-point correction for aperture S1600A1\n",
            "2023-03-10 14:49:49,855 - stpipe.WavecorrStep - INFO - Using wavelength zero-point correction for aperture S1600A1\n",
            "INFO:stpipe.WavecorrStep:Using wavelength zero-point correction for aperture S1600A1\n",
            "INFO:jwst.stpipe.core:Results used CRDS context: jwst_1063.pmap\n",
            "2023-03-10 14:49:49,882 - stpipe.WavecorrStep - INFO - Results used CRDS context: jwst_1063.pmap\n",
            "INFO:stpipe.WavecorrStep:Results used CRDS context: jwst_1063.pmap\n",
            "2023-03-10 14:49:49,889 - stpipe.WavecorrStep - INFO - Step WavecorrStep done\n",
            "INFO:stpipe.WavecorrStep:Step WavecorrStep done\n",
            "2023-03-10 14:49:49,895 - stpipe.PhotomStep - INFO - PhotomStep instance created.\n",
            "INFO:stpipe.PhotomStep:PhotomStep instance created.\n",
            "2023-03-10 14:49:50,085 - stpipe.PhotomStep - INFO - Step PhotomStep running with args (<SlitModel(215, 22, 432) from WASP-39b_prism_seg_COMBINED_rateints.fits>,).\n",
            "INFO:stpipe.PhotomStep:Step PhotomStep running with args (<SlitModel(215, 22, 432) from WASP-39b_prism_seg_COMBINED_rateints.fits>,).\n",
            "2023-03-10 14:49:50,101 - stpipe.PhotomStep - INFO - Step PhotomStep parameters are: {'pre_hooks': [], 'post_hooks': [], 'output_file': None, 'output_dir': None, 'output_ext': '.fits', 'output_use_model': False, 'output_use_index': True, 'save_results': False, 'skip': False, 'suffix': None, 'search_output_file': True, 'input_dir': '', 'inverse': False, 'source_type': None}\n",
            "INFO:stpipe.PhotomStep:Step PhotomStep parameters are: {'pre_hooks': [], 'post_hooks': [], 'output_file': None, 'output_dir': None, 'output_ext': '.fits', 'output_use_model': False, 'output_use_index': True, 'save_results': False, 'skip': False, 'suffix': None, 'search_output_file': True, 'input_dir': '', 'inverse': False, 'source_type': None}\n",
            "DEBUG:stpipe.PhotomStep:Input is SlitModel\n",
            "2023-03-10 14:49:50,622 - CRDS - INFO -  Fetching  /content/JWST_practical/crds_cache/references/jwst/nirspec/jwst_nirspec_photom_0014.fits   95.0 K bytes  (1 / 1 files) (0 / 95.0 K bytes)\n",
            "2023-03-10 14:49:51,267 - CRDS - INFO -  Fetching  /content/JWST_practical/crds_cache/references/jwst/nirspec/jwst_nirspec_area_0058.fits   11.5 K bytes  (1 / 1 files) (0 / 11.5 K bytes)\n",
            "2023-03-10 14:49:51,501 - stpipe.PhotomStep - INFO - Using photom reference file: /content/JWST_practical/crds_cache/references/jwst/nirspec/jwst_nirspec_photom_0014.fits\n",
            "INFO:stpipe.PhotomStep:Using photom reference file: /content/JWST_practical/crds_cache/references/jwst/nirspec/jwst_nirspec_photom_0014.fits\n",
            "2023-03-10 14:49:51,508 - stpipe.PhotomStep - INFO - Using area reference file: /content/JWST_practical/crds_cache/references/jwst/nirspec/jwst_nirspec_area_0058.fits\n",
            "INFO:stpipe.PhotomStep:Using area reference file: /content/JWST_practical/crds_cache/references/jwst/nirspec/jwst_nirspec_area_0058.fits\n",
            "INFO:jwst.photom.photom:Using instrument: NIRSPEC\n",
            "2023-03-10 14:49:51,879 - stpipe.PhotomStep - INFO - Using instrument: NIRSPEC\n",
            "INFO:stpipe.PhotomStep:Using instrument: NIRSPEC\n",
            "INFO:jwst.photom.photom: detector: NRS1\n",
            "2023-03-10 14:49:51,886 - stpipe.PhotomStep - INFO -  detector: NRS1\n",
            "INFO:stpipe.PhotomStep: detector: NRS1\n",
            "INFO:jwst.photom.photom: exp_type: NRS_BRIGHTOBJ\n",
            "2023-03-10 14:49:51,891 - stpipe.PhotomStep - INFO -  exp_type: NRS_BRIGHTOBJ\n",
            "INFO:stpipe.PhotomStep: exp_type: NRS_BRIGHTOBJ\n",
            "INFO:jwst.photom.photom: filter: CLEAR\n",
            "2023-03-10 14:49:51,895 - stpipe.PhotomStep - INFO -  filter: CLEAR\n",
            "INFO:stpipe.PhotomStep: filter: CLEAR\n",
            "INFO:jwst.photom.photom: grating: PRISM\n",
            "2023-03-10 14:49:51,898 - stpipe.PhotomStep - INFO -  grating: PRISM\n",
            "INFO:stpipe.PhotomStep: grating: PRISM\n",
            "INFO:jwst.photom.photom:Working on slit S1600A1\n",
            "2023-03-10 14:49:52,002 - stpipe.PhotomStep - INFO - Working on slit S1600A1\n",
            "INFO:stpipe.PhotomStep:Working on slit S1600A1\n",
            "INFO:jwst.photom.photom:PHOTMJSR value: 1\n",
            "2023-03-10 14:49:52,009 - stpipe.PhotomStep - INFO - PHOTMJSR value: 1\n",
            "INFO:stpipe.PhotomStep:PHOTMJSR value: 1\n",
            "INFO:jwst.stpipe.core:Results used CRDS context: jwst_1063.pmap\n",
            "2023-03-10 14:49:52,089 - stpipe.PhotomStep - INFO - Results used CRDS context: jwst_1063.pmap\n",
            "INFO:stpipe.PhotomStep:Results used CRDS context: jwst_1063.pmap\n",
            "2023-03-10 14:49:52,097 - stpipe.PhotomStep - INFO - Step PhotomStep done\n",
            "INFO:stpipe.PhotomStep:Step PhotomStep done\n"
          ]
        },
        {
          "output_type": "execute_result",
          "data": {
            "text/plain": [
              "'/content/drive/MyDrive/jwst_tutorial_output/WASP-39b_prism_seg_COMBINED_photom.fits'"
            ],
            "application/vnd.google.colaboratory.intrinsic+json": {
              "type": "string"
            }
          },
          "metadata": {},
          "execution_count": 17
        }
      ],
      "source": [
        "step = Extract2dStep()\n",
        "step.save_results = False\n",
        "result = step.run(result)\n",
        "\n",
        "step = SourceTypeStep()\n",
        "step.save_results = False\n",
        "result = step.run(result)\n",
        "\n",
        "step = WavecorrStep()\n",
        "step.save_results = False\n",
        "result = step.run(result)\n",
        "\n",
        "#step = FlatFieldStep()\n",
        "#step.save_results = True\n",
        "#result = step.run(result)\n",
        "\n",
        "step = PhotomStep()\n",
        "step.save_results = False\n",
        "result = step.run(result)\n",
        "\n",
        "filename = rateints_file.replace('rateints', 'photom')\n",
        "result.save(filename)   \n",
        " "
      ]
    },
    {
      "cell_type": "markdown",
      "source": [
        "The output from the Photom step is saved a FITS file. Let's read in this file ready for the next steps, and have a look at its contents."
      ],
      "metadata": {
        "id": "DvIFQ6QCJH_M"
      }
    },
    {
      "cell_type": "code",
      "source": [
        "stage_2a_file = '/content/drive/MyDrive/jwst_tutorial_output/WASP-39b_prism_seg_COMBINED_photom.fits' \n",
        "hdul =  fits.open(stage_2a_file)\n",
        "hdul.info()"
      ],
      "metadata": {
        "id": "00siET5kJY99",
        "outputId": "37750d92-3bc8-4c5e-94ab-5156146d1cfc",
        "colab": {
          "base_uri": "https://localhost:8080/"
        }
      },
      "execution_count": 18,
      "outputs": [
        {
          "output_type": "stream",
          "name": "stdout",
          "text": [
            "Filename: /content/drive/MyDrive/jwst_tutorial_output/WASP-39b_prism_seg_COMBINED_photom.fits\n",
            "No.    Name      Ver    Type      Cards   Dimensions   Format\n",
            "  0  PRIMARY       1 PrimaryHDU     317   ()      \n",
            "  1  SCI           1 ImageHDU        85   (432, 22, 215)   float32   \n",
            "  2  ERR           1 ImageHDU        11   (432, 22, 215)   float32   \n",
            "  3  DQ            1 ImageHDU        12   (432, 22, 215)   int32 (rescales to uint32)   \n",
            "  4  WAVELENGTH    1 ImageHDU         9   (432, 22)   float32   \n",
            "  5  AREA          1 ImageHDU        10   (432, 22, 215)   float32   \n",
            "  6  VAR_POISSON    1 ImageHDU        10   (432, 22, 215)   float32   \n",
            "  7  VAR_RNOISE    1 ImageHDU        10   (432, 22, 215)   float32   \n",
            "  8  VAR_FLAT      1 ImageHDU        10   (432, 22, 215)   float32   \n",
            "  9  INT_TIMES     1 BinTableHDU     24   215R x 7C   [J, D, D, D, D, D, D]   \n",
            " 10  ASDF          1 BinTableHDU     11   1R x 1C   [115788B]   \n"
          ]
        }
      ]
    },
    {
      "cell_type": "markdown",
      "source": [
        "What do you notice about the size of the science array compared to before?  What extensions have been added that weren't there before?\n",
        "\n",
        "Okay... let's have a look at one of the images after all these steps.  We will look at the first integration image. What do you notice?"
      ],
      "metadata": {
        "id": "IDZCXqLaEJ9z"
      }
    },
    {
      "cell_type": "code",
      "source": [
        "data = hdul[1].data\n",
        "print (data.shape)\n",
        "plt.figure('Stage 2 intermediate image', figsize=(20,40))\n",
        "plt.title('Stage 2 intermediate image')\n",
        "plt.imshow(data[0]);"
      ],
      "metadata": {
        "id": "lsh1BVl2JjRA",
        "outputId": "96b1dc8f-ca39-4767-f9ea-1b6800afbf43",
        "colab": {
          "base_uri": "https://localhost:8080/",
          "height": 130
        }
      },
      "execution_count": 19,
      "outputs": [
        {
          "output_type": "stream",
          "name": "stdout",
          "text": [
            "(215, 22, 432)\n"
          ]
        },
        {
          "output_type": "display_data",
          "data": {
            "text/plain": [
              "<Figure size 1440x2880 with 1 Axes>"
            ],
            "image/png": "[encoded data removed]"
          },
          "metadata": {
            "needs_background": "light"
          }
        }
      ]
    },
    {
      "cell_type": "markdown",
      "source": [
        "We have many patches of 'bad' pixels.  Basically we have tried to capture as many bad pixel values as possible - you can see there are quite a few.   We will now attempt to fill these values in.   \n",
        "\n",
        "This is done using a combination of using interpolated values in both pixel light curves and image row profiles to fill in nan values.\n",
        "\n",
        "A median image is also used to find outliers and fill in values.\n",
        "\n",
        "The science data will be temporarily held in an array called sci_stack while we make these corrections."
      ],
      "metadata": {
        "id": "ufyoD_Q7EyBE"
      }
    },
    {
      "cell_type": "code",
      "execution_count": 20,
      "metadata": {
        "id": "DNAFMwgyhfHh",
        "outputId": "6566d78f-ceea-4499-8c25-3f1f7e0afb7a",
        "colab": {
          "base_uri": "https://localhost:8080/"
        }
      },
      "outputs": [
        {
          "output_type": "stream",
          "name": "stdout",
          "text": [
            "done\n"
          ]
        }
      ],
      "source": [
        "# =============================================================================\n",
        "# fill in nans\n",
        "# =============================================================================\n",
        "# first try to fill via light curve ( if < 10% missing)\n",
        " \n",
        "sci_stack = hdul[1].data\n",
        "sci_stack_pre = hdul[1].data*1\n",
        "x = np.arange(sci_stack.shape[0])\n",
        "for i in range(sci_stack.shape[2]):\n",
        "    for j in range(sci_stack.shape[1]):\n",
        "        lc = sci_stack[:, j,i]\n",
        "        # plt.figure('lc')\n",
        "        idx = np.argwhere(np.isnan(lc)).T[0]\n",
        "        if len(idx) >0 and len(idx) < 0.1*len(x):\n",
        "        # if len(idx) >0 and len(idx) < len(x):\n",
        "            x_new = np.delete(x,idx)\n",
        "            lc_new = np.delete(lc,idx)\n",
        "            lc_filled = np.interp(x, x_new, lc_new)\n",
        "            # plt.plot(lc_filled, 'ro-')\n",
        "            # plt.plot(lc, 'bo-')\n",
        "            sci_stack[:, j,i] = lc_filled\n",
        "        # if more than 10% missing then treat whole timeline as bad and make nan \n",
        "        if len(idx) >0 and len(idx) >= 0.1*len(x) and len(idx)!= len(x):\n",
        "            sci_stack[:, j,i] = np.nan\n",
        "            \n",
        "# now deal with remaining nans including all the way through: have to filled spatially.\n",
        "x = np.arange(sci_stack.shape[2])\n",
        "for k in range(sci_stack.shape[0]):\n",
        "    for i in range(sci_stack.shape[1]):\n",
        "    \n",
        "        row = sci_stack[k][i]\n",
        "        row0 = row*1\n",
        "        \n",
        "        idx = np.argwhere(np.isnan(row)).T[0]\n",
        "        if len(idx)>0:\n",
        "            x_new = np.delete(x,idx)\n",
        "            row_new = np.delete(row, idx)\n",
        "            row_filled = np.interp(x, x_new, row_new)\n",
        "            # plt.plot(row_filled, 'ro-')\n",
        "            # plt.plot(row, 'bo-')\n",
        "            sci_stack[k][i] = row_filled\n",
        "            # plt.figure()\n",
        "            # plt.plot(row_filled, 'ro-')\n",
        "            # plt.plot(row0, 'bo')\n",
        "  \n",
        "print ('done')\n",
        "\n",
        "# =============================================================================\n",
        "# make a median stack if needed for comparison and replacement : use at this point so that medians exist for any spatially filled points (e.g. if nan all the way through)\n",
        "# =============================================================================\n",
        " \n",
        "median_stack = np.zeros_like(sci_stack)\n",
        "std_stack = np.zeros_like(sci_stack)\n",
        "alpha =3\n",
        "box = 10\n",
        " \n",
        "for i in range(sci_stack.shape[0]):\n",
        "    #print(i)\n",
        "    if i <box:\n",
        "        box_l = i\n",
        "        box_r = box + 1\n",
        "    if i + box+1 > sci_stack.shape[0]-1:\n",
        "        box_l = box\n",
        "        box_r = box\n",
        "    median_stack[i] = np.nanmedian(sci_stack[i-box_l:i+box_r], axis=0)\n",
        "    std_stack[i] = np.nanstd(sci_stack[i-box_l:i+box_r], axis=0)\n",
        "median_std = np.nanmedian(std_stack, axis =0)\n",
        "  \n",
        "# =============================================================================\n",
        "# Light curve pixel level outliers - correction : we use a median to both detect outlier and apply correction\n",
        "# =============================================================================\n",
        " \n",
        "sci_stack = np.where(sci_stack>median_stack+alpha*std_stack, median_stack, sci_stack)\n",
        "sci_stack = np.where(sci_stack<median_stack-alpha*std_stack, median_stack, sci_stack)\n",
        "\n",
        "sci_stack = np.where(sci_stack>median_stack+alpha*median_std, median_stack, sci_stack)\n",
        "sci_stack = np.where(sci_stack<median_stack-alpha*median_std, median_stack, sci_stack)\n",
        "    \n",
        " \n"
      ]
    },
    {
      "cell_type": "code",
      "source": [
        "sci_stack.shape"
      ],
      "metadata": {
        "id": "TySO4zgiA1qG",
        "outputId": "8f054a64-ddde-43b7-b0df-2a7b96238918",
        "colab": {
          "base_uri": "https://localhost:8080/"
        }
      },
      "execution_count": 21,
      "outputs": [
        {
          "output_type": "execute_result",
          "data": {
            "text/plain": [
              "(215, 22, 432)"
            ]
          },
          "metadata": {},
          "execution_count": 21
        }
      ]
    },
    {
      "cell_type": "markdown",
      "source": [
        "Let's look at the same image as before and after correction.  We will pick a random integration.  You can repeatedly run this cell to pick different random integrations."
      ],
      "metadata": {
        "id": "pd_VRCzHFcDT"
      }
    },
    {
      "cell_type": "code",
      "source": [
        "intg = int(np.random.uniform(0,sci_stack.shape[0]-1))\n",
        "plt.figure('Stage 2 intermediate image un-corrected', figsize=(20,40))\n",
        "plt.title('Stage 2 intermediate image un-corrected integration %s'%(intg))\n",
        "plt.imshow(sci_stack_pre[intg], vmin =0, vmax=sci_stack[intg].max());\n",
        "plt.figure('Stage 2 intermediate image corrected', figsize=(20,40))\n",
        "plt.title('Stage 2 intermediate image corrected integration %s'%(intg))\n",
        "plt.imshow(sci_stack[intg],vmin =0, vmax=sci_stack[intg].max());"
      ],
      "metadata": {
        "id": "iH4zTOn5Fioq",
        "outputId": "be29360d-8677-4f3f-dcd9-3e45e8c0c3e5",
        "colab": {
          "base_uri": "https://localhost:8080/",
          "height": 206
        }
      },
      "execution_count": 26,
      "outputs": [
        {
          "output_type": "display_data",
          "data": {
            "text/plain": [
              "<Figure size 1440x2880 with 1 Axes>"
            ],
            "image/png": "[encoded data removed]"
          },
          "metadata": {
            "needs_background": "light"
          }
        },
        {
          "output_type": "display_data",
          "data": {
            "text/plain": [
              "<Figure size 1440x2880 with 1 Axes>"
            ],
            "image/png": "[encoded data removed]"
          },
          "metadata": {
            "needs_background": "light"
          }
        }
      ]
    },
    {
      "cell_type": "markdown",
      "source": [
        "The dimensions of the image array are given above.  The first dimension is the number of integrations.  The second is the number of x pixels, and the third is the number of y pixels.  \n",
        "\n",
        "We must now take the image stack and sum it in the y direction to get a 1-D stellar spectrum for each integration (we change the 3-D array into a 2-D array)\n",
        "\n",
        "**I would like you to do this below.** Fill in the blanks in the code.  Call the new 2-D array spectra_stack.  What do you expect the dimensions of spectra_stack to be?"
      ],
      "metadata": {
        "id": "DJgHB3SeFs0J"
      }
    },
    {
      "cell_type": "code",
      "source": [
        "# start with the 3-D array\n",
        "data = sci_stack\n",
        "spectra_stack = np.sum(data, axis = 1)\n",
        "print (spectra_stack.shape)\n"
      ],
      "metadata": {
        "id": "WOrymn1PK3bE",
        "outputId": "6cf83c39-8f82-49d4-daed-ed154390e033",
        "colab": {
          "base_uri": "https://localhost:8080/"
        }
      },
      "execution_count": 27,
      "outputs": [
        {
          "output_type": "stream",
          "name": "stdout",
          "text": [
            "(215, 432)\n"
          ]
        }
      ]
    },
    {
      "cell_type": "markdown",
      "source": [
        "Let's look at a random spectrum from the stack."
      ],
      "metadata": {
        "id": "YnWDfL8UL500"
      }
    },
    {
      "cell_type": "code",
      "source": [
        "intg = int(np.random.uniform(0,spectra_stack.shape[0]-1))\n",
        "plt.figure('1-D stellar spectrum from integration %s'%(intg))\n",
        "plt.title('1-D stellar spectrum from integration %s'%(intg))\n",
        "plt.ylabel('electrons/sec')\n",
        "plt.xlabel('pixel column')\n",
        "plt.plot(spectra_stack[intg]);\n"
      ],
      "metadata": {
        "id": "b4Y9CY95L9ye",
        "outputId": "4143eac3-9a2f-4f45-8e8e-f880e36c9f87",
        "colab": {
          "base_uri": "https://localhost:8080/",
          "height": 295
        }
      },
      "execution_count": 28,
      "outputs": [
        {
          "output_type": "display_data",
          "data": {
            "text/plain": [
              "<Figure size 432x288 with 1 Axes>"
            ],
            "image/png": "[encoded data removed]"
          },
          "metadata": {
            "needs_background": "light"
          }
        }
      ]
    },
    {
      "cell_type": "markdown",
      "source": [
        "We can actually assign wavelengths to the pixel columns: note they were added during the earlier Stage 2 steps.  The wavelengths vary very slightly in the y direction, so we will take an average per pixel column.  We will plot the same spectrum with wavelength on the x-axis.  Is this the wavelength range we expect for NIRSpec Prism?  What about the shape of the stellar spectrum... is this what you expect?"
      ],
      "metadata": {
        "id": "8GoS8gQpNRs5"
      }
    },
    {
      "cell_type": "code",
      "source": [
        "wl_grid = np.nanmean(hdul[4].data, axis=0)\n",
        "plt.figure('1-D stellar spectrum from integration %s'%(intg))\n",
        "plt.title('1-D stellar spectrum from integration %s'%(intg))\n",
        "plt.ylabel('electrons/sec')\n",
        "plt.xlabel('wavelength (microns')\n",
        "plt.plot(wl_grid, spectra_stack[intg]);\n"
      ],
      "metadata": {
        "id": "hSrtLxK4NnsO",
        "outputId": "766035da-88b0-4261-858d-bad4878499ae",
        "colab": {
          "base_uri": "https://localhost:8080/",
          "height": 295
        }
      },
      "execution_count": 29,
      "outputs": [
        {
          "output_type": "display_data",
          "data": {
            "text/plain": [
              "<Figure size 432x288 with 1 Axes>"
            ],
            "image/png": "[encoded data removed]"
          },
          "metadata": {
            "needs_background": "light"
          }
        }
      ]
    },
    {
      "cell_type": "markdown",
      "source": [
        "We also need to know the time of each integration to produce light curves.\n"
      ],
      "metadata": {
        "id": "eLw0NsbEOosk"
      }
    },
    {
      "cell_type": "code",
      "source": [
        "int_times =  hdul[9].data"
      ],
      "metadata": {
        "id": "XFysa_pqPR4U"
      },
      "execution_count": 30,
      "outputs": []
    },
    {
      "cell_type": "markdown",
      "source": [
        "We will now package everything into final FITS file ready for the next stage.  This file will be stored in the jwst_tutorial_output folder ready for Stage 3."
      ],
      "metadata": {
        "id": "W_SizSy0M5xY"
      }
    },
    {
      "cell_type": "code",
      "execution_count": 31,
      "metadata": {
        "id": "_nckqFidi5qw"
      },
      "outputs": [],
      "source": [
        "n = np.arange(100.0)\n",
        "hdu= fits.PrimaryHDU(n)\n",
        "hdul = fits.HDUList([hdu])\n",
        "table_hdu  = fits.BinTableHDU(data=int_times)\n",
        "hdul.append(table_hdu)\n",
        "hdul[1].header['EXTNAME']= 'INT_TIMES'\n",
        "\n",
        "hdul.append(fits.ImageHDU(np.ones(10)))\n",
        "hdul[2].header['EXTNAME']= 'SPEC'\n",
        "hdul[2].data= spectra_stack\n",
        "\n",
        "hdul.append(fits.ImageHDU(np.ones(10)))\n",
        "hdul[3].header['EXTNAME']= 'WAV'\n",
        "hdul[3].data= wl_grid\n",
        "\n",
        "filename = stage_2a_file.replace('photom', '1Dspec')\n",
        "hdul.writeto(filename, overwrite=True)\n",
        " "
      ]
    },
    {
      "cell_type": "markdown",
      "source": [
        "We now have a stack of stellar spectra with wavelength and time information.\n",
        "We have everything we need to start stage 3. "
      ],
      "metadata": {
        "id": "fCg7OKKwQAd-"
      }
    }
  ],
  "metadata": {
    "colab": {
      "provenance": [],
      "include_colab_link": true
    },
    "kernelspec": {
      "display_name": "Python 3",
      "name": "python3"
    },
    "language_info": {
      "name": "python"
    }
  },
  "nbformat": 4,
  "nbformat_minor": 0
}